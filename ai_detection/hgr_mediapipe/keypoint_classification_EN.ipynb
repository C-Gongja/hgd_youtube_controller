{
  "cells": [
    {
      "cell_type": "code",
      "execution_count": 89,
      "metadata": {
        "id": "igMyGnjE9hEp"
      },
      "outputs": [],
      "source": [
        "import csv\n",
        "\n",
        "import numpy as np\n",
        "import tensorflow as tf\n",
        "from sklearn.model_selection import train_test_split\n",
        "\n",
        "RANDOM_SEED = 42"
      ]
    },
    {
      "cell_type": "markdown",
      "metadata": {
        "id": "t2HDvhIu9hEr"
      },
      "source": [
        "# Specify each path"
      ]
    },
    {
      "cell_type": "code",
      "execution_count": 90,
      "metadata": {
        "id": "9NvZP2Zn9hEy"
      },
      "outputs": [],
      "source": [
        "dataset = 'model/keypoint_classifier/keypoint.csv'\n",
        "model_save_path = 'model/keypoint_classifier/keypoint_classifier.hdf5'\n",
        "tflite_save_path = 'model/keypoint_classifier/keypoint_classifier.tflite'"
      ]
    },
    {
      "cell_type": "markdown",
      "metadata": {
        "id": "s5oMH7x19hEz"
      },
      "source": [
        "# Set number of classes"
      ]
    },
    {
      "cell_type": "code",
      "execution_count": 91,
      "metadata": {
        "id": "du4kodXL9hEz"
      },
      "outputs": [],
      "source": [
        "NUM_CLASSES = 6"
      ]
    },
    {
      "cell_type": "markdown",
      "metadata": {
        "id": "XjnL0uso9hEz"
      },
      "source": [
        "# Dataset reading"
      ]
    },
    {
      "cell_type": "code",
      "execution_count": 92,
      "metadata": {
        "id": "QT5ZqtEz9hE0"
      },
      "outputs": [],
      "source": [
        "X_dataset = np.loadtxt(dataset, delimiter=',', dtype='float32', usecols=list(range(1, (21 * 2) + 1)))"
      ]
    },
    {
      "cell_type": "code",
      "execution_count": 93,
      "metadata": {
        "id": "QmoKFsp49hE0"
      },
      "outputs": [],
      "source": [
        "y_dataset = np.loadtxt(dataset, delimiter=',', dtype='int32', usecols=(0))"
      ]
    },
    {
      "cell_type": "code",
      "execution_count": 94,
      "metadata": {
        "id": "xQU7JTZ_9hE0"
      },
      "outputs": [],
      "source": [
        "X_train, X_test, y_train, y_test = train_test_split(X_dataset, y_dataset, train_size=0.75, random_state=RANDOM_SEED)"
      ]
    },
    {
      "cell_type": "markdown",
      "metadata": {
        "id": "mxK_lETT9hE0"
      },
      "source": [
        "# Model building"
      ]
    },
    {
      "cell_type": "code",
      "execution_count": 95,
      "metadata": {
        "id": "vHBmUf1t9hE1"
      },
      "outputs": [],
      "source": [
        "model = tf.keras.models.Sequential([\n",
        "    tf.keras.layers.Input((21 * 2, )),\n",
        "    tf.keras.layers.Dropout(0.2),\n",
        "    tf.keras.layers.Dense(20, activation='relu'),\n",
        "    tf.keras.layers.Dropout(0.4),\n",
        "    tf.keras.layers.Dense(10, activation='relu'),\n",
        "    tf.keras.layers.Dense(NUM_CLASSES, activation='softmax')\n",
        "])"
      ]
    },
    {
      "cell_type": "code",
      "execution_count": 96,
      "metadata": {
        "colab": {
          "base_uri": "https://localhost:8080/"
        },
        "id": "ypqky9tc9hE1",
        "outputId": "5db082bb-30e3-4110-bf63-a1ee777ecd46"
      },
      "outputs": [
        {
          "name": "stdout",
          "output_type": "stream",
          "text": [
            "Model: \"sequential_6\"\n",
            "_________________________________________________________________\n",
            " Layer (type)                Output Shape              Param #   \n",
            "=================================================================\n",
            " dropout_12 (Dropout)        (None, 42)                0         \n",
            "                                                                 \n",
            " dense_18 (Dense)            (None, 20)                860       \n",
            "                                                                 \n",
            " dropout_13 (Dropout)        (None, 20)                0         \n",
            "                                                                 \n",
            " dense_19 (Dense)            (None, 10)                210       \n",
            "                                                                 \n",
            " dense_20 (Dense)            (None, 6)                 66        \n",
            "                                                                 \n",
            "=================================================================\n",
            "Total params: 1136 (4.44 KB)\n",
            "Trainable params: 1136 (4.44 KB)\n",
            "Non-trainable params: 0 (0.00 Byte)\n",
            "_________________________________________________________________\n"
          ]
        }
      ],
      "source": [
        "model.summary()  # tf.keras.utils.plot_model(model, show_shapes=True)"
      ]
    },
    {
      "cell_type": "code",
      "execution_count": 97,
      "metadata": {
        "id": "MbMjOflQ9hE1"
      },
      "outputs": [],
      "source": [
        "# Model checkpoint callback\n",
        "cp_callback = tf.keras.callbacks.ModelCheckpoint(\n",
        "    model_save_path, verbose=1, save_weights_only=False)\n",
        "# Callback for early stopping\n",
        "es_callback = tf.keras.callbacks.EarlyStopping(patience=20, verbose=1)"
      ]
    },
    {
      "cell_type": "code",
      "execution_count": 98,
      "metadata": {
        "id": "c3Dac0M_9hE2"
      },
      "outputs": [],
      "source": [
        "# Model compilation\n",
        "model.compile(\n",
        "    optimizer='adam',\n",
        "    loss='sparse_categorical_crossentropy',\n",
        "    metrics=['accuracy']\n",
        ")"
      ]
    },
    {
      "cell_type": "markdown",
      "metadata": {
        "id": "7XI0j1Iu9hE2"
      },
      "source": [
        "# Model training"
      ]
    },
    {
      "cell_type": "code",
      "execution_count": 99,
      "metadata": {
        "colab": {
          "base_uri": "https://localhost:8080/"
        },
        "id": "WirBl-JE9hE3",
        "outputId": "71b30ca2-8294-4d9d-8aa2-800d90d399de",
        "scrolled": true
      },
      "outputs": [
        {
          "name": "stdout",
          "output_type": "stream",
          "text": [
            "Epoch 1/1000\n",
            "70/74 [===========================>..] - ETA: 0s - loss: 1.6950 - accuracy: 0.2838\n",
            "Epoch 1: saving model to model/keypoint_classifier/keypoint_classifier.hdf5\n",
            "74/74 [==============================] - 2s 8ms/step - loss: 1.6915 - accuracy: 0.2859 - val_loss: 1.5311 - val_accuracy: 0.4272\n",
            "Epoch 2/1000\n",
            "55/74 [=====================>........] - ETA: 0s - loss: 1.5014 - accuracy: 0.3645"
          ]
        },
        {
          "name": "stderr",
          "output_type": "stream",
          "text": [
            "/Users/yoon/anaconda3/lib/python3.11/site-packages/keras/src/engine/training.py:3079: UserWarning: You are saving your model as an HDF5 file via `model.save()`. This file format is considered legacy. We recommend using instead the native Keras format, e.g. `model.save('my_model.keras')`.\n",
            "  saving_api.save_model(\n"
          ]
        },
        {
          "name": "stdout",
          "output_type": "stream",
          "text": [
            "\n",
            "Epoch 2: saving model to model/keypoint_classifier/keypoint_classifier.hdf5\n",
            "74/74 [==============================] - 0s 3ms/step - loss: 1.4793 - accuracy: 0.3821 - val_loss: 1.2932 - val_accuracy: 0.5891\n",
            "Epoch 3/1000\n",
            "56/74 [=====================>........] - ETA: 0s - loss: 1.3044 - accuracy: 0.5043\n",
            "Epoch 3: saving model to model/keypoint_classifier/keypoint_classifier.hdf5\n",
            "74/74 [==============================] - 0s 3ms/step - loss: 1.2806 - accuracy: 0.5134 - val_loss: 1.0734 - val_accuracy: 0.6185\n",
            "Epoch 4/1000\n",
            "58/74 [======================>.......] - ETA: 0s - loss: 1.1305 - accuracy: 0.5540\n",
            "Epoch 4: saving model to model/keypoint_classifier/keypoint_classifier.hdf5\n",
            "74/74 [==============================] - 0s 3ms/step - loss: 1.1164 - accuracy: 0.5617 - val_loss: 0.9212 - val_accuracy: 0.6732\n",
            "Epoch 5/1000\n",
            "59/74 [======================>.......] - ETA: 0s - loss: 1.0527 - accuracy: 0.5793\n",
            "Epoch 5: saving model to model/keypoint_classifier/keypoint_classifier.hdf5\n",
            "74/74 [==============================] - 0s 3ms/step - loss: 1.0411 - accuracy: 0.5844 - val_loss: 0.8263 - val_accuracy: 0.7118\n",
            "Epoch 6/1000\n",
            "60/74 [=======================>......] - ETA: 0s - loss: 0.9945 - accuracy: 0.5954\n",
            "Epoch 6: saving model to model/keypoint_classifier/keypoint_classifier.hdf5\n",
            "74/74 [==============================] - 0s 3ms/step - loss: 0.9902 - accuracy: 0.5993 - val_loss: 0.7594 - val_accuracy: 0.7329\n",
            "Epoch 7/1000\n",
            "61/74 [=======================>......] - ETA: 0s - loss: 0.9567 - accuracy: 0.6201\n",
            "Epoch 7: saving model to model/keypoint_classifier/keypoint_classifier.hdf5\n",
            "74/74 [==============================] - 0s 3ms/step - loss: 0.9486 - accuracy: 0.6221 - val_loss: 0.7018 - val_accuracy: 0.8016\n",
            "Epoch 8/1000\n",
            "59/74 [======================>.......] - ETA: 0s - loss: 0.8944 - accuracy: 0.6476\n",
            "Epoch 8: saving model to model/keypoint_classifier/keypoint_classifier.hdf5\n",
            "74/74 [==============================] - 0s 3ms/step - loss: 0.8950 - accuracy: 0.6492 - val_loss: 0.6458 - val_accuracy: 0.8304\n",
            "Epoch 9/1000\n",
            "59/74 [======================>.......] - ETA: 0s - loss: 0.8715 - accuracy: 0.6625\n",
            "Epoch 9: saving model to model/keypoint_classifier/keypoint_classifier.hdf5\n",
            "74/74 [==============================] - 0s 3ms/step - loss: 0.8698 - accuracy: 0.6615 - val_loss: 0.6064 - val_accuracy: 0.8684\n",
            "Epoch 10/1000\n",
            "60/74 [=======================>......] - ETA: 0s - loss: 0.8604 - accuracy: 0.6698\n",
            "Epoch 10: saving model to model/keypoint_classifier/keypoint_classifier.hdf5\n",
            "74/74 [==============================] - 0s 3ms/step - loss: 0.8530 - accuracy: 0.6722 - val_loss: 0.5718 - val_accuracy: 0.8527\n",
            "Epoch 11/1000\n",
            "60/74 [=======================>......] - ETA: 0s - loss: 0.8251 - accuracy: 0.6805\n",
            "Epoch 11: saving model to model/keypoint_classifier/keypoint_classifier.hdf5\n",
            "74/74 [==============================] - 0s 3ms/step - loss: 0.8220 - accuracy: 0.6837 - val_loss: 0.5454 - val_accuracy: 0.8693\n",
            "Epoch 12/1000\n",
            "60/74 [=======================>......] - ETA: 0s - loss: 0.8118 - accuracy: 0.6846\n",
            "Epoch 12: saving model to model/keypoint_classifier/keypoint_classifier.hdf5\n",
            "74/74 [==============================] - 0s 3ms/step - loss: 0.8081 - accuracy: 0.6864 - val_loss: 0.5223 - val_accuracy: 0.8933\n",
            "Epoch 13/1000\n",
            "61/74 [=======================>......] - ETA: 0s - loss: 0.7957 - accuracy: 0.7006\n",
            "Epoch 13: saving model to model/keypoint_classifier/keypoint_classifier.hdf5\n",
            "74/74 [==============================] - 0s 3ms/step - loss: 0.7982 - accuracy: 0.7020 - val_loss: 0.5046 - val_accuracy: 0.9000\n",
            "Epoch 14/1000\n",
            "60/74 [=======================>......] - ETA: 0s - loss: 0.7840 - accuracy: 0.6945\n",
            "Epoch 14: saving model to model/keypoint_classifier/keypoint_classifier.hdf5\n",
            "74/74 [==============================] - 0s 3ms/step - loss: 0.7834 - accuracy: 0.6958 - val_loss: 0.4761 - val_accuracy: 0.8981\n",
            "Epoch 15/1000\n",
            "61/74 [=======================>......] - ETA: 0s - loss: 0.7784 - accuracy: 0.7017\n",
            "Epoch 15: saving model to model/keypoint_classifier/keypoint_classifier.hdf5\n",
            "74/74 [==============================] - 0s 3ms/step - loss: 0.7746 - accuracy: 0.7042 - val_loss: 0.4689 - val_accuracy: 0.9096\n",
            "Epoch 16/1000\n",
            "61/74 [=======================>......] - ETA: 0s - loss: 0.7556 - accuracy: 0.7081\n",
            "Epoch 16: saving model to model/keypoint_classifier/keypoint_classifier.hdf5\n",
            "74/74 [==============================] - 0s 3ms/step - loss: 0.7580 - accuracy: 0.7074 - val_loss: 0.4517 - val_accuracy: 0.9083\n",
            "Epoch 17/1000\n",
            "59/74 [======================>.......] - ETA: 0s - loss: 0.7563 - accuracy: 0.7164\n",
            "Epoch 17: saving model to model/keypoint_classifier/keypoint_classifier.hdf5\n",
            "74/74 [==============================] - 0s 3ms/step - loss: 0.7527 - accuracy: 0.7183 - val_loss: 0.4502 - val_accuracy: 0.9073\n",
            "Epoch 18/1000\n",
            "61/74 [=======================>......] - ETA: 0s - loss: 0.7466 - accuracy: 0.7086\n",
            "Epoch 18: saving model to model/keypoint_classifier/keypoint_classifier.hdf5\n",
            "74/74 [==============================] - 0s 3ms/step - loss: 0.7491 - accuracy: 0.7102 - val_loss: 0.4307 - val_accuracy: 0.9109\n",
            "Epoch 19/1000\n",
            "59/74 [======================>.......] - ETA: 0s - loss: 0.7237 - accuracy: 0.7213\n",
            "Epoch 19: saving model to model/keypoint_classifier/keypoint_classifier.hdf5\n",
            "74/74 [==============================] - 0s 3ms/step - loss: 0.7237 - accuracy: 0.7234 - val_loss: 0.4227 - val_accuracy: 0.9105\n",
            "Epoch 20/1000\n",
            "61/74 [=======================>......] - ETA: 0s - loss: 0.7145 - accuracy: 0.7307\n",
            "Epoch 20: saving model to model/keypoint_classifier/keypoint_classifier.hdf5\n",
            "74/74 [==============================] - 0s 3ms/step - loss: 0.7163 - accuracy: 0.7274 - val_loss: 0.4107 - val_accuracy: 0.9185\n",
            "Epoch 21/1000\n",
            "59/74 [======================>.......] - ETA: 0s - loss: 0.7105 - accuracy: 0.7364\n",
            "Epoch 21: saving model to model/keypoint_classifier/keypoint_classifier.hdf5\n",
            "74/74 [==============================] - 0s 3ms/step - loss: 0.7118 - accuracy: 0.7334 - val_loss: 0.4095 - val_accuracy: 0.9128\n",
            "Epoch 22/1000\n",
            "61/74 [=======================>......] - ETA: 0s - loss: 0.7245 - accuracy: 0.7257\n",
            "Epoch 22: saving model to model/keypoint_classifier/keypoint_classifier.hdf5\n",
            "74/74 [==============================] - 0s 3ms/step - loss: 0.7199 - accuracy: 0.7282 - val_loss: 0.3968 - val_accuracy: 0.9134\n",
            "Epoch 23/1000\n",
            "61/74 [=======================>......] - ETA: 0s - loss: 0.7157 - accuracy: 0.7284\n",
            "Epoch 23: saving model to model/keypoint_classifier/keypoint_classifier.hdf5\n",
            "74/74 [==============================] - 0s 3ms/step - loss: 0.7131 - accuracy: 0.7294 - val_loss: 0.3970 - val_accuracy: 0.9211\n",
            "Epoch 24/1000\n",
            "58/74 [======================>.......] - ETA: 0s - loss: 0.7073 - accuracy: 0.7317\n",
            "Epoch 24: saving model to model/keypoint_classifier/keypoint_classifier.hdf5\n",
            "74/74 [==============================] - 0s 3ms/step - loss: 0.7031 - accuracy: 0.7323 - val_loss: 0.3880 - val_accuracy: 0.9163\n",
            "Epoch 25/1000\n",
            "60/74 [=======================>......] - ETA: 0s - loss: 0.6986 - accuracy: 0.7353\n",
            "Epoch 25: saving model to model/keypoint_classifier/keypoint_classifier.hdf5\n",
            "74/74 [==============================] - 0s 3ms/step - loss: 0.6962 - accuracy: 0.7360 - val_loss: 0.3784 - val_accuracy: 0.9233\n",
            "Epoch 26/1000\n",
            "58/74 [======================>.......] - ETA: 0s - loss: 0.6777 - accuracy: 0.7443\n",
            "Epoch 26: saving model to model/keypoint_classifier/keypoint_classifier.hdf5\n",
            "74/74 [==============================] - 0s 3ms/step - loss: 0.6788 - accuracy: 0.7428 - val_loss: 0.3755 - val_accuracy: 0.9214\n",
            "Epoch 27/1000\n",
            "58/74 [======================>.......] - ETA: 0s - loss: 0.6866 - accuracy: 0.7406\n",
            "Epoch 27: saving model to model/keypoint_classifier/keypoint_classifier.hdf5\n",
            "74/74 [==============================] - 0s 3ms/step - loss: 0.6816 - accuracy: 0.7417 - val_loss: 0.3670 - val_accuracy: 0.9173\n",
            "Epoch 28/1000\n",
            "59/74 [======================>.......] - ETA: 0s - loss: 0.6812 - accuracy: 0.7402\n",
            "Epoch 28: saving model to model/keypoint_classifier/keypoint_classifier.hdf5\n",
            "74/74 [==============================] - 0s 3ms/step - loss: 0.6728 - accuracy: 0.7438 - val_loss: 0.3661 - val_accuracy: 0.9220\n",
            "Epoch 29/1000\n",
            "61/74 [=======================>......] - ETA: 0s - loss: 0.6714 - accuracy: 0.7454\n",
            "Epoch 29: saving model to model/keypoint_classifier/keypoint_classifier.hdf5\n",
            "74/74 [==============================] - 0s 3ms/step - loss: 0.6699 - accuracy: 0.7448 - val_loss: 0.3637 - val_accuracy: 0.9176\n",
            "Epoch 30/1000\n",
            "61/74 [=======================>......] - ETA: 0s - loss: 0.6594 - accuracy: 0.7464\n",
            "Epoch 30: saving model to model/keypoint_classifier/keypoint_classifier.hdf5\n",
            "74/74 [==============================] - 0s 4ms/step - loss: 0.6613 - accuracy: 0.7478 - val_loss: 0.3536 - val_accuracy: 0.9182\n",
            "Epoch 31/1000\n",
            "56/74 [=====================>........] - ETA: 0s - loss: 0.6667 - accuracy: 0.7499\n",
            "Epoch 31: saving model to model/keypoint_classifier/keypoint_classifier.hdf5\n",
            "74/74 [==============================] - 0s 3ms/step - loss: 0.6616 - accuracy: 0.7481 - val_loss: 0.3387 - val_accuracy: 0.9198\n",
            "Epoch 32/1000\n",
            "59/74 [======================>.......] - ETA: 0s - loss: 0.6652 - accuracy: 0.7565\n",
            "Epoch 32: saving model to model/keypoint_classifier/keypoint_classifier.hdf5\n",
            "74/74 [==============================] - 0s 3ms/step - loss: 0.6576 - accuracy: 0.7589 - val_loss: 0.3354 - val_accuracy: 0.9236\n",
            "Epoch 33/1000\n",
            "57/74 [======================>.......] - ETA: 0s - loss: 0.6571 - accuracy: 0.7460\n",
            "Epoch 33: saving model to model/keypoint_classifier/keypoint_classifier.hdf5\n",
            "74/74 [==============================] - 0s 3ms/step - loss: 0.6569 - accuracy: 0.7482 - val_loss: 0.3361 - val_accuracy: 0.9259\n",
            "Epoch 34/1000\n",
            "59/74 [======================>.......] - ETA: 0s - loss: 0.6505 - accuracy: 0.7569\n",
            "Epoch 34: saving model to model/keypoint_classifier/keypoint_classifier.hdf5\n",
            "74/74 [==============================] - 0s 3ms/step - loss: 0.6503 - accuracy: 0.7563 - val_loss: 0.3263 - val_accuracy: 0.9339\n",
            "Epoch 35/1000\n",
            "60/74 [=======================>......] - ETA: 0s - loss: 0.6463 - accuracy: 0.7568\n",
            "Epoch 35: saving model to model/keypoint_classifier/keypoint_classifier.hdf5\n",
            "74/74 [==============================] - 0s 3ms/step - loss: 0.6472 - accuracy: 0.7545 - val_loss: 0.3338 - val_accuracy: 0.9198\n",
            "Epoch 36/1000\n",
            "56/74 [=====================>........] - ETA: 0s - loss: 0.6528 - accuracy: 0.7532\n",
            "Epoch 36: saving model to model/keypoint_classifier/keypoint_classifier.hdf5\n",
            "74/74 [==============================] - 0s 3ms/step - loss: 0.6481 - accuracy: 0.7558 - val_loss: 0.3252 - val_accuracy: 0.9252\n",
            "Epoch 37/1000\n",
            "59/74 [======================>.......] - ETA: 0s - loss: 0.6333 - accuracy: 0.7627\n",
            "Epoch 37: saving model to model/keypoint_classifier/keypoint_classifier.hdf5\n",
            "74/74 [==============================] - 0s 3ms/step - loss: 0.6384 - accuracy: 0.7600 - val_loss: 0.3334 - val_accuracy: 0.9246\n",
            "Epoch 38/1000\n",
            "58/74 [======================>.......] - ETA: 0s - loss: 0.6324 - accuracy: 0.7571\n",
            "Epoch 38: saving model to model/keypoint_classifier/keypoint_classifier.hdf5\n",
            "74/74 [==============================] - 0s 3ms/step - loss: 0.6336 - accuracy: 0.7561 - val_loss: 0.3328 - val_accuracy: 0.9262\n",
            "Epoch 39/1000\n",
            "60/74 [=======================>......] - ETA: 0s - loss: 0.6258 - accuracy: 0.7686\n",
            "Epoch 39: saving model to model/keypoint_classifier/keypoint_classifier.hdf5\n",
            "74/74 [==============================] - 0s 3ms/step - loss: 0.6218 - accuracy: 0.7687 - val_loss: 0.3161 - val_accuracy: 0.9275\n",
            "Epoch 40/1000\n",
            "54/74 [====================>.........] - ETA: 0s - loss: 0.6325 - accuracy: 0.7648\n",
            "Epoch 40: saving model to model/keypoint_classifier/keypoint_classifier.hdf5\n",
            "74/74 [==============================] - 0s 4ms/step - loss: 0.6302 - accuracy: 0.7667 - val_loss: 0.3197 - val_accuracy: 0.9230\n",
            "Epoch 41/1000\n",
            "60/74 [=======================>......] - ETA: 0s - loss: 0.6308 - accuracy: 0.7625\n",
            "Epoch 41: saving model to model/keypoint_classifier/keypoint_classifier.hdf5\n",
            "74/74 [==============================] - 0s 3ms/step - loss: 0.6276 - accuracy: 0.7657 - val_loss: 0.3060 - val_accuracy: 0.9342\n",
            "Epoch 42/1000\n",
            "59/74 [======================>.......] - ETA: 0s - loss: 0.6234 - accuracy: 0.7654\n",
            "Epoch 42: saving model to model/keypoint_classifier/keypoint_classifier.hdf5\n",
            "74/74 [==============================] - 0s 3ms/step - loss: 0.6204 - accuracy: 0.7654 - val_loss: 0.3234 - val_accuracy: 0.9240\n",
            "Epoch 43/1000\n",
            "74/74 [==============================] - ETA: 0s - loss: 0.6258 - accuracy: 0.7654\n",
            "Epoch 43: saving model to model/keypoint_classifier/keypoint_classifier.hdf5\n",
            "74/74 [==============================] - 0s 4ms/step - loss: 0.6258 - accuracy: 0.7654 - val_loss: 0.3076 - val_accuracy: 0.9288\n",
            "Epoch 44/1000\n",
            "59/74 [======================>.......] - ETA: 0s - loss: 0.6197 - accuracy: 0.7654\n",
            "Epoch 44: saving model to model/keypoint_classifier/keypoint_classifier.hdf5\n",
            "74/74 [==============================] - 0s 3ms/step - loss: 0.6262 - accuracy: 0.7624 - val_loss: 0.3035 - val_accuracy: 0.9419\n",
            "Epoch 45/1000\n",
            "59/74 [======================>.......] - ETA: 0s - loss: 0.6140 - accuracy: 0.7640\n",
            "Epoch 45: saving model to model/keypoint_classifier/keypoint_classifier.hdf5\n",
            "74/74 [==============================] - 0s 3ms/step - loss: 0.6088 - accuracy: 0.7669 - val_loss: 0.2936 - val_accuracy: 0.9364\n",
            "Epoch 46/1000\n",
            "61/74 [=======================>......] - ETA: 0s - loss: 0.6097 - accuracy: 0.7702\n",
            "Epoch 46: saving model to model/keypoint_classifier/keypoint_classifier.hdf5\n",
            "74/74 [==============================] - 0s 3ms/step - loss: 0.6129 - accuracy: 0.7689 - val_loss: 0.2918 - val_accuracy: 0.9431\n",
            "Epoch 47/1000\n",
            "58/74 [======================>.......] - ETA: 0s - loss: 0.6193 - accuracy: 0.7656\n",
            "Epoch 47: saving model to model/keypoint_classifier/keypoint_classifier.hdf5\n",
            "74/74 [==============================] - 0s 3ms/step - loss: 0.6163 - accuracy: 0.7665 - val_loss: 0.2898 - val_accuracy: 0.9358\n",
            "Epoch 48/1000\n",
            "57/74 [======================>.......] - ETA: 0s - loss: 0.6041 - accuracy: 0.7737\n",
            "Epoch 48: saving model to model/keypoint_classifier/keypoint_classifier.hdf5\n",
            "74/74 [==============================] - 0s 3ms/step - loss: 0.6092 - accuracy: 0.7716 - val_loss: 0.2892 - val_accuracy: 0.9396\n",
            "Epoch 49/1000\n",
            "60/74 [=======================>......] - ETA: 0s - loss: 0.6222 - accuracy: 0.7717\n",
            "Epoch 49: saving model to model/keypoint_classifier/keypoint_classifier.hdf5\n",
            "74/74 [==============================] - 0s 3ms/step - loss: 0.6156 - accuracy: 0.7724 - val_loss: 0.2947 - val_accuracy: 0.9364\n",
            "Epoch 50/1000\n",
            "58/74 [======================>.......] - ETA: 0s - loss: 0.6103 - accuracy: 0.7802\n",
            "Epoch 50: saving model to model/keypoint_classifier/keypoint_classifier.hdf5\n",
            "74/74 [==============================] - 0s 3ms/step - loss: 0.6048 - accuracy: 0.7798 - val_loss: 0.2855 - val_accuracy: 0.9355\n",
            "Epoch 51/1000\n",
            "60/74 [=======================>......] - ETA: 0s - loss: 0.6101 - accuracy: 0.7672\n",
            "Epoch 51: saving model to model/keypoint_classifier/keypoint_classifier.hdf5\n",
            "74/74 [==============================] - 0s 3ms/step - loss: 0.6057 - accuracy: 0.7697 - val_loss: 0.2816 - val_accuracy: 0.9403\n",
            "Epoch 52/1000\n",
            "59/74 [======================>.......] - ETA: 0s - loss: 0.6210 - accuracy: 0.7687\n",
            "Epoch 52: saving model to model/keypoint_classifier/keypoint_classifier.hdf5\n",
            "74/74 [==============================] - 0s 3ms/step - loss: 0.6138 - accuracy: 0.7690 - val_loss: 0.2892 - val_accuracy: 0.9374\n",
            "Epoch 53/1000\n",
            "54/74 [====================>.........] - ETA: 0s - loss: 0.6127 - accuracy: 0.7713\n",
            "Epoch 53: saving model to model/keypoint_classifier/keypoint_classifier.hdf5\n",
            "74/74 [==============================] - 0s 3ms/step - loss: 0.6026 - accuracy: 0.7731 - val_loss: 0.2880 - val_accuracy: 0.9431\n",
            "Epoch 54/1000\n",
            "61/74 [=======================>......] - ETA: 0s - loss: 0.6060 - accuracy: 0.7673\n",
            "Epoch 54: saving model to model/keypoint_classifier/keypoint_classifier.hdf5\n",
            "74/74 [==============================] - 0s 3ms/step - loss: 0.6092 - accuracy: 0.7665 - val_loss: 0.2994 - val_accuracy: 0.9332\n",
            "Epoch 55/1000\n",
            "60/74 [=======================>......] - ETA: 0s - loss: 0.6070 - accuracy: 0.7677\n",
            "Epoch 55: saving model to model/keypoint_classifier/keypoint_classifier.hdf5\n",
            "74/74 [==============================] - 0s 3ms/step - loss: 0.6053 - accuracy: 0.7697 - val_loss: 0.2852 - val_accuracy: 0.9444\n",
            "Epoch 56/1000\n",
            "60/74 [=======================>......] - ETA: 0s - loss: 0.6120 - accuracy: 0.7708\n",
            "Epoch 56: saving model to model/keypoint_classifier/keypoint_classifier.hdf5\n",
            "74/74 [==============================] - 0s 3ms/step - loss: 0.6053 - accuracy: 0.7732 - val_loss: 0.2728 - val_accuracy: 0.9505\n",
            "Epoch 57/1000\n",
            "61/74 [=======================>......] - ETA: 0s - loss: 0.5958 - accuracy: 0.7728\n",
            "Epoch 57: saving model to model/keypoint_classifier/keypoint_classifier.hdf5\n",
            "74/74 [==============================] - 0s 3ms/step - loss: 0.5975 - accuracy: 0.7719 - val_loss: 0.2873 - val_accuracy: 0.9431\n",
            "Epoch 58/1000\n",
            "60/74 [=======================>......] - ETA: 0s - loss: 0.6091 - accuracy: 0.7729\n",
            "Epoch 58: saving model to model/keypoint_classifier/keypoint_classifier.hdf5\n",
            "74/74 [==============================] - 0s 3ms/step - loss: 0.6051 - accuracy: 0.7734 - val_loss: 0.2737 - val_accuracy: 0.9419\n",
            "Epoch 59/1000\n",
            "60/74 [=======================>......] - ETA: 0s - loss: 0.5828 - accuracy: 0.7822\n",
            "Epoch 59: saving model to model/keypoint_classifier/keypoint_classifier.hdf5\n",
            "74/74 [==============================] - 0s 3ms/step - loss: 0.5810 - accuracy: 0.7835 - val_loss: 0.2746 - val_accuracy: 0.9473\n",
            "Epoch 60/1000\n",
            "58/74 [======================>.......] - ETA: 0s - loss: 0.5799 - accuracy: 0.7826\n",
            "Epoch 60: saving model to model/keypoint_classifier/keypoint_classifier.hdf5\n",
            "74/74 [==============================] - 0s 3ms/step - loss: 0.5855 - accuracy: 0.7817 - val_loss: 0.2735 - val_accuracy: 0.9476\n",
            "Epoch 61/1000\n",
            "54/74 [====================>.........] - ETA: 0s - loss: 0.5824 - accuracy: 0.7837\n",
            "Epoch 61: saving model to model/keypoint_classifier/keypoint_classifier.hdf5\n",
            "74/74 [==============================] - 0s 3ms/step - loss: 0.5870 - accuracy: 0.7829 - val_loss: 0.2779 - val_accuracy: 0.9447\n",
            "Epoch 62/1000\n",
            "54/74 [====================>.........] - ETA: 0s - loss: 0.5806 - accuracy: 0.7820\n",
            "Epoch 62: saving model to model/keypoint_classifier/keypoint_classifier.hdf5\n",
            "74/74 [==============================] - 0s 3ms/step - loss: 0.5830 - accuracy: 0.7794 - val_loss: 0.2731 - val_accuracy: 0.9454\n",
            "Epoch 63/1000\n",
            "55/74 [=====================>........] - ETA: 0s - loss: 0.5854 - accuracy: 0.7845\n",
            "Epoch 63: saving model to model/keypoint_classifier/keypoint_classifier.hdf5\n",
            "74/74 [==============================] - 0s 3ms/step - loss: 0.5844 - accuracy: 0.7871 - val_loss: 0.2740 - val_accuracy: 0.9435\n",
            "Epoch 64/1000\n",
            "57/74 [======================>.......] - ETA: 0s - loss: 0.5895 - accuracy: 0.7781\n",
            "Epoch 64: saving model to model/keypoint_classifier/keypoint_classifier.hdf5\n",
            "74/74 [==============================] - 0s 3ms/step - loss: 0.5870 - accuracy: 0.7812 - val_loss: 0.2787 - val_accuracy: 0.9406\n",
            "Epoch 65/1000\n",
            "57/74 [======================>.......] - ETA: 0s - loss: 0.5873 - accuracy: 0.7808\n",
            "Epoch 65: saving model to model/keypoint_classifier/keypoint_classifier.hdf5\n",
            "74/74 [==============================] - 0s 3ms/step - loss: 0.5784 - accuracy: 0.7824 - val_loss: 0.2645 - val_accuracy: 0.9450\n",
            "Epoch 66/1000\n",
            "56/74 [=====================>........] - ETA: 0s - loss: 0.5670 - accuracy: 0.7932\n",
            "Epoch 66: saving model to model/keypoint_classifier/keypoint_classifier.hdf5\n",
            "74/74 [==============================] - 0s 3ms/step - loss: 0.5636 - accuracy: 0.7957 - val_loss: 0.2580 - val_accuracy: 0.9489\n",
            "Epoch 67/1000\n",
            "58/74 [======================>.......] - ETA: 0s - loss: 0.5855 - accuracy: 0.7775\n",
            "Epoch 67: saving model to model/keypoint_classifier/keypoint_classifier.hdf5\n",
            "74/74 [==============================] - 0s 3ms/step - loss: 0.5813 - accuracy: 0.7777 - val_loss: 0.2697 - val_accuracy: 0.9422\n",
            "Epoch 68/1000\n",
            "60/74 [=======================>......] - ETA: 0s - loss: 0.5761 - accuracy: 0.7855\n",
            "Epoch 68: saving model to model/keypoint_classifier/keypoint_classifier.hdf5\n",
            "74/74 [==============================] - 0s 3ms/step - loss: 0.5738 - accuracy: 0.7869 - val_loss: 0.2700 - val_accuracy: 0.9371\n",
            "Epoch 69/1000\n",
            "59/74 [======================>.......] - ETA: 0s - loss: 0.5664 - accuracy: 0.7900\n",
            "Epoch 69: saving model to model/keypoint_classifier/keypoint_classifier.hdf5\n",
            "74/74 [==============================] - 0s 3ms/step - loss: 0.5711 - accuracy: 0.7914 - val_loss: 0.2648 - val_accuracy: 0.9460\n",
            "Epoch 70/1000\n",
            "60/74 [=======================>......] - ETA: 0s - loss: 0.5638 - accuracy: 0.7880\n",
            "Epoch 70: saving model to model/keypoint_classifier/keypoint_classifier.hdf5\n",
            "74/74 [==============================] - 0s 3ms/step - loss: 0.5698 - accuracy: 0.7868 - val_loss: 0.2662 - val_accuracy: 0.9415\n",
            "Epoch 71/1000\n",
            "57/74 [======================>.......] - ETA: 0s - loss: 0.5768 - accuracy: 0.7888\n",
            "Epoch 71: saving model to model/keypoint_classifier/keypoint_classifier.hdf5\n",
            "74/74 [==============================] - 0s 3ms/step - loss: 0.5750 - accuracy: 0.7872 - val_loss: 0.2605 - val_accuracy: 0.9435\n",
            "Epoch 72/1000\n",
            "60/74 [=======================>......] - ETA: 0s - loss: 0.5780 - accuracy: 0.7844\n",
            "Epoch 72: saving model to model/keypoint_classifier/keypoint_classifier.hdf5\n",
            "74/74 [==============================] - 0s 3ms/step - loss: 0.5788 - accuracy: 0.7828 - val_loss: 0.2612 - val_accuracy: 0.9444\n",
            "Epoch 73/1000\n",
            "58/74 [======================>.......] - ETA: 0s - loss: 0.5760 - accuracy: 0.7864\n",
            "Epoch 73: saving model to model/keypoint_classifier/keypoint_classifier.hdf5\n",
            "74/74 [==============================] - 0s 3ms/step - loss: 0.5762 - accuracy: 0.7840 - val_loss: 0.2657 - val_accuracy: 0.9390\n",
            "Epoch 74/1000\n",
            "60/74 [=======================>......] - ETA: 0s - loss: 0.5677 - accuracy: 0.7908\n",
            "Epoch 74: saving model to model/keypoint_classifier/keypoint_classifier.hdf5\n",
            "74/74 [==============================] - 0s 3ms/step - loss: 0.5729 - accuracy: 0.7878 - val_loss: 0.2686 - val_accuracy: 0.9479\n",
            "Epoch 75/1000\n",
            "58/74 [======================>.......] - ETA: 0s - loss: 0.5598 - accuracy: 0.7903\n",
            "Epoch 75: saving model to model/keypoint_classifier/keypoint_classifier.hdf5\n",
            "74/74 [==============================] - 0s 3ms/step - loss: 0.5621 - accuracy: 0.7910 - val_loss: 0.2569 - val_accuracy: 0.9441\n",
            "Epoch 76/1000\n",
            "58/74 [======================>.......] - ETA: 0s - loss: 0.5751 - accuracy: 0.7826\n",
            "Epoch 76: saving model to model/keypoint_classifier/keypoint_classifier.hdf5\n",
            "74/74 [==============================] - 0s 3ms/step - loss: 0.5759 - accuracy: 0.7821 - val_loss: 0.2513 - val_accuracy: 0.9492\n",
            "Epoch 77/1000\n",
            "60/74 [=======================>......] - ETA: 0s - loss: 0.5671 - accuracy: 0.7928\n",
            "Epoch 77: saving model to model/keypoint_classifier/keypoint_classifier.hdf5\n",
            "74/74 [==============================] - 0s 3ms/step - loss: 0.5703 - accuracy: 0.7900 - val_loss: 0.2534 - val_accuracy: 0.9521\n",
            "Epoch 78/1000\n",
            "58/74 [======================>.......] - ETA: 0s - loss: 0.5670 - accuracy: 0.7892\n",
            "Epoch 78: saving model to model/keypoint_classifier/keypoint_classifier.hdf5\n",
            "74/74 [==============================] - 0s 3ms/step - loss: 0.5645 - accuracy: 0.7868 - val_loss: 0.2566 - val_accuracy: 0.9476\n",
            "Epoch 79/1000\n",
            "58/74 [======================>.......] - ETA: 0s - loss: 0.5705 - accuracy: 0.7838\n",
            "Epoch 79: saving model to model/keypoint_classifier/keypoint_classifier.hdf5\n",
            "74/74 [==============================] - 0s 3ms/step - loss: 0.5683 - accuracy: 0.7849 - val_loss: 0.2521 - val_accuracy: 0.9521\n",
            "Epoch 80/1000\n",
            "61/74 [=======================>......] - ETA: 0s - loss: 0.5565 - accuracy: 0.7851\n",
            "Epoch 80: saving model to model/keypoint_classifier/keypoint_classifier.hdf5\n",
            "74/74 [==============================] - 0s 3ms/step - loss: 0.5570 - accuracy: 0.7836 - val_loss: 0.2581 - val_accuracy: 0.9476\n",
            "Epoch 81/1000\n",
            "59/74 [======================>.......] - ETA: 0s - loss: 0.5738 - accuracy: 0.7820\n",
            "Epoch 81: saving model to model/keypoint_classifier/keypoint_classifier.hdf5\n",
            "74/74 [==============================] - 0s 3ms/step - loss: 0.5700 - accuracy: 0.7808 - val_loss: 0.2553 - val_accuracy: 0.9498\n",
            "Epoch 82/1000\n",
            "59/74 [======================>.......] - ETA: 0s - loss: 0.5577 - accuracy: 0.7924\n",
            "Epoch 82: saving model to model/keypoint_classifier/keypoint_classifier.hdf5\n",
            "74/74 [==============================] - 0s 3ms/step - loss: 0.5626 - accuracy: 0.7924 - val_loss: 0.2648 - val_accuracy: 0.9428\n",
            "Epoch 83/1000\n",
            "59/74 [======================>.......] - ETA: 0s - loss: 0.5453 - accuracy: 0.7937\n",
            "Epoch 83: saving model to model/keypoint_classifier/keypoint_classifier.hdf5\n",
            "74/74 [==============================] - 0s 3ms/step - loss: 0.5517 - accuracy: 0.7932 - val_loss: 0.2628 - val_accuracy: 0.9454\n",
            "Epoch 84/1000\n",
            "60/74 [=======================>......] - ETA: 0s - loss: 0.5489 - accuracy: 0.7943\n",
            "Epoch 84: saving model to model/keypoint_classifier/keypoint_classifier.hdf5\n",
            "74/74 [==============================] - 0s 3ms/step - loss: 0.5484 - accuracy: 0.7918 - val_loss: 0.2451 - val_accuracy: 0.9482\n",
            "Epoch 85/1000\n",
            "59/74 [======================>.......] - ETA: 0s - loss: 0.5346 - accuracy: 0.8048\n",
            "Epoch 85: saving model to model/keypoint_classifier/keypoint_classifier.hdf5\n",
            "74/74 [==============================] - 0s 3ms/step - loss: 0.5468 - accuracy: 0.8023 - val_loss: 0.2450 - val_accuracy: 0.9511\n",
            "Epoch 86/1000\n",
            "60/74 [=======================>......] - ETA: 0s - loss: 0.5549 - accuracy: 0.7953\n",
            "Epoch 86: saving model to model/keypoint_classifier/keypoint_classifier.hdf5\n",
            "74/74 [==============================] - 0s 3ms/step - loss: 0.5539 - accuracy: 0.7920 - val_loss: 0.2581 - val_accuracy: 0.9482\n",
            "Epoch 87/1000\n",
            "58/74 [======================>.......] - ETA: 0s - loss: 0.5617 - accuracy: 0.7924\n",
            "Epoch 87: saving model to model/keypoint_classifier/keypoint_classifier.hdf5\n",
            "74/74 [==============================] - 0s 3ms/step - loss: 0.5621 - accuracy: 0.7924 - val_loss: 0.2548 - val_accuracy: 0.9521\n",
            "Epoch 88/1000\n",
            "61/74 [=======================>......] - ETA: 0s - loss: 0.5527 - accuracy: 0.7955\n",
            "Epoch 88: saving model to model/keypoint_classifier/keypoint_classifier.hdf5\n",
            "74/74 [==============================] - 0s 3ms/step - loss: 0.5509 - accuracy: 0.7937 - val_loss: 0.2550 - val_accuracy: 0.9438\n",
            "Epoch 89/1000\n",
            "61/74 [=======================>......] - ETA: 0s - loss: 0.5374 - accuracy: 0.7993\n",
            "Epoch 89: saving model to model/keypoint_classifier/keypoint_classifier.hdf5\n",
            "74/74 [==============================] - 0s 3ms/step - loss: 0.5403 - accuracy: 0.7968 - val_loss: 0.2460 - val_accuracy: 0.9524\n",
            "Epoch 90/1000\n",
            "60/74 [=======================>......] - ETA: 0s - loss: 0.5360 - accuracy: 0.7975\n",
            "Epoch 90: saving model to model/keypoint_classifier/keypoint_classifier.hdf5\n",
            "74/74 [==============================] - 0s 3ms/step - loss: 0.5371 - accuracy: 0.7968 - val_loss: 0.2416 - val_accuracy: 0.9498\n",
            "Epoch 91/1000\n",
            "58/74 [======================>.......] - ETA: 0s - loss: 0.5489 - accuracy: 0.7993\n",
            "Epoch 91: saving model to model/keypoint_classifier/keypoint_classifier.hdf5\n",
            "74/74 [==============================] - 0s 3ms/step - loss: 0.5456 - accuracy: 0.7982 - val_loss: 0.2432 - val_accuracy: 0.9534\n",
            "Epoch 92/1000\n",
            "58/74 [======================>.......] - ETA: 0s - loss: 0.5605 - accuracy: 0.7916\n",
            "Epoch 92: saving model to model/keypoint_classifier/keypoint_classifier.hdf5\n",
            "74/74 [==============================] - 0s 3ms/step - loss: 0.5535 - accuracy: 0.7933 - val_loss: 0.2453 - val_accuracy: 0.9505\n",
            "Epoch 93/1000\n",
            "58/74 [======================>.......] - ETA: 0s - loss: 0.5396 - accuracy: 0.7962\n",
            "Epoch 93: saving model to model/keypoint_classifier/keypoint_classifier.hdf5\n",
            "74/74 [==============================] - 0s 3ms/step - loss: 0.5417 - accuracy: 0.7949 - val_loss: 0.2414 - val_accuracy: 0.9511\n",
            "Epoch 94/1000\n",
            "60/74 [=======================>......] - ETA: 0s - loss: 0.5473 - accuracy: 0.7910\n",
            "Epoch 94: saving model to model/keypoint_classifier/keypoint_classifier.hdf5\n",
            "74/74 [==============================] - 0s 3ms/step - loss: 0.5482 - accuracy: 0.7898 - val_loss: 0.2485 - val_accuracy: 0.9489\n",
            "Epoch 95/1000\n",
            "60/74 [=======================>......] - ETA: 0s - loss: 0.5463 - accuracy: 0.7979\n",
            "Epoch 95: saving model to model/keypoint_classifier/keypoint_classifier.hdf5\n",
            "74/74 [==============================] - 0s 3ms/step - loss: 0.5448 - accuracy: 0.7964 - val_loss: 0.2526 - val_accuracy: 0.9514\n",
            "Epoch 96/1000\n",
            "59/74 [======================>.......] - ETA: 0s - loss: 0.5226 - accuracy: 0.8022\n",
            "Epoch 96: saving model to model/keypoint_classifier/keypoint_classifier.hdf5\n",
            "74/74 [==============================] - 0s 3ms/step - loss: 0.5270 - accuracy: 0.8004 - val_loss: 0.2439 - val_accuracy: 0.9524\n",
            "Epoch 97/1000\n",
            "60/74 [=======================>......] - ETA: 0s - loss: 0.5535 - accuracy: 0.7918\n",
            "Epoch 97: saving model to model/keypoint_classifier/keypoint_classifier.hdf5\n",
            "74/74 [==============================] - 0s 3ms/step - loss: 0.5494 - accuracy: 0.7950 - val_loss: 0.2519 - val_accuracy: 0.9444\n",
            "Epoch 98/1000\n",
            "58/74 [======================>.......] - ETA: 0s - loss: 0.5252 - accuracy: 0.7994\n",
            "Epoch 98: saving model to model/keypoint_classifier/keypoint_classifier.hdf5\n",
            "74/74 [==============================] - 0s 3ms/step - loss: 0.5352 - accuracy: 0.7987 - val_loss: 0.2416 - val_accuracy: 0.9530\n",
            "Epoch 99/1000\n",
            "54/74 [====================>.........] - ETA: 0s - loss: 0.5515 - accuracy: 0.7920\n",
            "Epoch 99: saving model to model/keypoint_classifier/keypoint_classifier.hdf5\n",
            "74/74 [==============================] - 0s 4ms/step - loss: 0.5449 - accuracy: 0.7938 - val_loss: 0.2411 - val_accuracy: 0.9511\n",
            "Epoch 100/1000\n",
            "60/74 [=======================>......] - ETA: 0s - loss: 0.5450 - accuracy: 0.7983\n",
            "Epoch 100: saving model to model/keypoint_classifier/keypoint_classifier.hdf5\n",
            "74/74 [==============================] - 0s 3ms/step - loss: 0.5423 - accuracy: 0.8001 - val_loss: 0.2409 - val_accuracy: 0.9511\n",
            "Epoch 101/1000\n",
            "55/74 [=====================>........] - ETA: 0s - loss: 0.5396 - accuracy: 0.7962\n",
            "Epoch 101: saving model to model/keypoint_classifier/keypoint_classifier.hdf5\n",
            "74/74 [==============================] - 0s 3ms/step - loss: 0.5469 - accuracy: 0.7944 - val_loss: 0.2557 - val_accuracy: 0.9415\n",
            "Epoch 102/1000\n",
            "60/74 [=======================>......] - ETA: 0s - loss: 0.5395 - accuracy: 0.8025\n",
            "Epoch 102: saving model to model/keypoint_classifier/keypoint_classifier.hdf5\n",
            "74/74 [==============================] - 0s 3ms/step - loss: 0.5387 - accuracy: 0.8015 - val_loss: 0.2444 - val_accuracy: 0.9534\n",
            "Epoch 103/1000\n",
            "59/74 [======================>.......] - ETA: 0s - loss: 0.5199 - accuracy: 0.8065\n",
            "Epoch 103: saving model to model/keypoint_classifier/keypoint_classifier.hdf5\n",
            "74/74 [==============================] - 0s 3ms/step - loss: 0.5254 - accuracy: 0.8039 - val_loss: 0.2356 - val_accuracy: 0.9521\n",
            "Epoch 104/1000\n",
            "59/74 [======================>.......] - ETA: 0s - loss: 0.5402 - accuracy: 0.7912\n",
            "Epoch 104: saving model to model/keypoint_classifier/keypoint_classifier.hdf5\n",
            "74/74 [==============================] - 0s 3ms/step - loss: 0.5360 - accuracy: 0.7941 - val_loss: 0.2439 - val_accuracy: 0.9556\n",
            "Epoch 105/1000\n",
            "60/74 [=======================>......] - ETA: 0s - loss: 0.5340 - accuracy: 0.8000\n",
            "Epoch 105: saving model to model/keypoint_classifier/keypoint_classifier.hdf5\n",
            "74/74 [==============================] - 0s 3ms/step - loss: 0.5338 - accuracy: 0.8008 - val_loss: 0.2469 - val_accuracy: 0.9518\n",
            "Epoch 106/1000\n",
            "58/74 [======================>.......] - ETA: 0s - loss: 0.5392 - accuracy: 0.7985\n",
            "Epoch 106: saving model to model/keypoint_classifier/keypoint_classifier.hdf5\n",
            "74/74 [==============================] - 0s 3ms/step - loss: 0.5468 - accuracy: 0.7956 - val_loss: 0.2596 - val_accuracy: 0.9463\n",
            "Epoch 107/1000\n",
            "61/74 [=======================>......] - ETA: 0s - loss: 0.5517 - accuracy: 0.7994\n",
            "Epoch 107: saving model to model/keypoint_classifier/keypoint_classifier.hdf5\n",
            "74/74 [==============================] - 0s 3ms/step - loss: 0.5462 - accuracy: 0.8023 - val_loss: 0.2454 - val_accuracy: 0.9521\n",
            "Epoch 108/1000\n",
            "61/74 [=======================>......] - ETA: 0s - loss: 0.5387 - accuracy: 0.7989\n",
            "Epoch 108: saving model to model/keypoint_classifier/keypoint_classifier.hdf5\n",
            "74/74 [==============================] - 0s 3ms/step - loss: 0.5361 - accuracy: 0.8004 - val_loss: 0.2446 - val_accuracy: 0.9521\n",
            "Epoch 109/1000\n",
            "59/74 [======================>.......] - ETA: 0s - loss: 0.5424 - accuracy: 0.7959\n",
            "Epoch 109: saving model to model/keypoint_classifier/keypoint_classifier.hdf5\n",
            "74/74 [==============================] - 0s 3ms/step - loss: 0.5386 - accuracy: 0.7958 - val_loss: 0.2540 - val_accuracy: 0.9498\n",
            "Epoch 110/1000\n",
            "60/74 [=======================>......] - ETA: 0s - loss: 0.5365 - accuracy: 0.8004\n",
            "Epoch 110: saving model to model/keypoint_classifier/keypoint_classifier.hdf5\n",
            "74/74 [==============================] - 0s 3ms/step - loss: 0.5349 - accuracy: 0.8009 - val_loss: 0.2529 - val_accuracy: 0.9508\n",
            "Epoch 111/1000\n",
            "60/74 [=======================>......] - ETA: 0s - loss: 0.5511 - accuracy: 0.7969\n",
            "Epoch 111: saving model to model/keypoint_classifier/keypoint_classifier.hdf5\n",
            "74/74 [==============================] - 0s 3ms/step - loss: 0.5474 - accuracy: 0.7956 - val_loss: 0.2480 - val_accuracy: 0.9527\n",
            "Epoch 112/1000\n",
            "60/74 [=======================>......] - ETA: 0s - loss: 0.5163 - accuracy: 0.8033\n",
            "Epoch 112: saving model to model/keypoint_classifier/keypoint_classifier.hdf5\n",
            "74/74 [==============================] - 0s 3ms/step - loss: 0.5200 - accuracy: 0.8022 - val_loss: 0.2442 - val_accuracy: 0.9527\n",
            "Epoch 113/1000\n",
            "60/74 [=======================>......] - ETA: 0s - loss: 0.5159 - accuracy: 0.8087\n",
            "Epoch 113: saving model to model/keypoint_classifier/keypoint_classifier.hdf5\n",
            "74/74 [==============================] - 0s 3ms/step - loss: 0.5231 - accuracy: 0.8051 - val_loss: 0.2488 - val_accuracy: 0.9492\n",
            "Epoch 114/1000\n",
            "61/74 [=======================>......] - ETA: 0s - loss: 0.5424 - accuracy: 0.7946\n",
            "Epoch 114: saving model to model/keypoint_classifier/keypoint_classifier.hdf5\n",
            "74/74 [==============================] - 0s 3ms/step - loss: 0.5345 - accuracy: 0.7957 - val_loss: 0.2493 - val_accuracy: 0.9524\n",
            "Epoch 115/1000\n",
            "60/74 [=======================>......] - ETA: 0s - loss: 0.5266 - accuracy: 0.8068\n",
            "Epoch 115: saving model to model/keypoint_classifier/keypoint_classifier.hdf5\n",
            "74/74 [==============================] - 0s 3ms/step - loss: 0.5303 - accuracy: 0.8037 - val_loss: 0.2446 - val_accuracy: 0.9498\n",
            "Epoch 116/1000\n",
            "61/74 [=======================>......] - ETA: 0s - loss: 0.5217 - accuracy: 0.8035\n",
            "Epoch 116: saving model to model/keypoint_classifier/keypoint_classifier.hdf5\n",
            "74/74 [==============================] - 0s 3ms/step - loss: 0.5260 - accuracy: 0.8031 - val_loss: 0.2497 - val_accuracy: 0.9495\n",
            "Epoch 117/1000\n",
            "60/74 [=======================>......] - ETA: 0s - loss: 0.5320 - accuracy: 0.8039\n",
            "Epoch 117: saving model to model/keypoint_classifier/keypoint_classifier.hdf5\n",
            "74/74 [==============================] - 0s 3ms/step - loss: 0.5309 - accuracy: 0.8063 - val_loss: 0.2438 - val_accuracy: 0.9543\n",
            "Epoch 118/1000\n",
            "58/74 [======================>.......] - ETA: 0s - loss: 0.5350 - accuracy: 0.8024\n",
            "Epoch 118: saving model to model/keypoint_classifier/keypoint_classifier.hdf5\n",
            "74/74 [==============================] - 0s 3ms/step - loss: 0.5292 - accuracy: 0.8020 - val_loss: 0.2488 - val_accuracy: 0.9521\n",
            "Epoch 119/1000\n",
            "57/74 [======================>.......] - ETA: 0s - loss: 0.5311 - accuracy: 0.8008\n",
            "Epoch 119: saving model to model/keypoint_classifier/keypoint_classifier.hdf5\n",
            "74/74 [==============================] - 0s 3ms/step - loss: 0.5308 - accuracy: 0.8001 - val_loss: 0.2475 - val_accuracy: 0.9457\n",
            "Epoch 120/1000\n",
            "59/74 [======================>.......] - ETA: 0s - loss: 0.5187 - accuracy: 0.8043\n",
            "Epoch 120: saving model to model/keypoint_classifier/keypoint_classifier.hdf5\n",
            "74/74 [==============================] - 0s 3ms/step - loss: 0.5193 - accuracy: 0.8025 - val_loss: 0.2347 - val_accuracy: 0.9578\n",
            "Epoch 121/1000\n",
            "59/74 [======================>.......] - ETA: 0s - loss: 0.5248 - accuracy: 0.8022\n",
            "Epoch 121: saving model to model/keypoint_classifier/keypoint_classifier.hdf5\n",
            "74/74 [==============================] - 0s 3ms/step - loss: 0.5286 - accuracy: 0.8024 - val_loss: 0.2482 - val_accuracy: 0.9498\n",
            "Epoch 122/1000\n",
            "59/74 [======================>.......] - ETA: 0s - loss: 0.5260 - accuracy: 0.8077\n",
            "Epoch 122: saving model to model/keypoint_classifier/keypoint_classifier.hdf5\n",
            "74/74 [==============================] - 0s 3ms/step - loss: 0.5271 - accuracy: 0.8058 - val_loss: 0.2467 - val_accuracy: 0.9514\n",
            "Epoch 123/1000\n",
            "61/74 [=======================>......] - ETA: 0s - loss: 0.5298 - accuracy: 0.7978\n",
            "Epoch 123: saving model to model/keypoint_classifier/keypoint_classifier.hdf5\n",
            "74/74 [==============================] - 0s 3ms/step - loss: 0.5293 - accuracy: 0.7989 - val_loss: 0.2494 - val_accuracy: 0.9479\n",
            "Epoch 124/1000\n",
            "60/74 [=======================>......] - ETA: 0s - loss: 0.5221 - accuracy: 0.8042\n",
            "Epoch 124: saving model to model/keypoint_classifier/keypoint_classifier.hdf5\n",
            "74/74 [==============================] - 0s 3ms/step - loss: 0.5146 - accuracy: 0.8073 - val_loss: 0.2487 - val_accuracy: 0.9530\n",
            "Epoch 125/1000\n",
            "60/74 [=======================>......] - ETA: 0s - loss: 0.5159 - accuracy: 0.8038\n",
            "Epoch 125: saving model to model/keypoint_classifier/keypoint_classifier.hdf5\n",
            "74/74 [==============================] - 0s 3ms/step - loss: 0.5235 - accuracy: 0.8013 - val_loss: 0.2513 - val_accuracy: 0.9502\n",
            "Epoch 126/1000\n",
            "61/74 [=======================>......] - ETA: 0s - loss: 0.5238 - accuracy: 0.8005\n",
            "Epoch 126: saving model to model/keypoint_classifier/keypoint_classifier.hdf5\n",
            "74/74 [==============================] - 0s 3ms/step - loss: 0.5257 - accuracy: 0.8019 - val_loss: 0.2430 - val_accuracy: 0.9524\n",
            "Epoch 127/1000\n",
            "58/74 [======================>.......] - ETA: 0s - loss: 0.5359 - accuracy: 0.8006\n",
            "Epoch 127: saving model to model/keypoint_classifier/keypoint_classifier.hdf5\n",
            "74/74 [==============================] - 0s 3ms/step - loss: 0.5314 - accuracy: 0.8043 - val_loss: 0.2530 - val_accuracy: 0.9460\n",
            "Epoch 128/1000\n",
            "59/74 [======================>.......] - ETA: 0s - loss: 0.5275 - accuracy: 0.7994\n",
            "Epoch 128: saving model to model/keypoint_classifier/keypoint_classifier.hdf5\n",
            "74/74 [==============================] - 0s 3ms/step - loss: 0.5288 - accuracy: 0.7986 - val_loss: 0.2403 - val_accuracy: 0.9594\n",
            "Epoch 129/1000\n",
            "59/74 [======================>.......] - ETA: 0s - loss: 0.5257 - accuracy: 0.8001\n",
            "Epoch 129: saving model to model/keypoint_classifier/keypoint_classifier.hdf5\n",
            "74/74 [==============================] - 0s 3ms/step - loss: 0.5238 - accuracy: 0.8023 - val_loss: 0.2545 - val_accuracy: 0.9492\n",
            "Epoch 130/1000\n",
            "61/74 [=======================>......] - ETA: 0s - loss: 0.5129 - accuracy: 0.8119\n",
            "Epoch 130: saving model to model/keypoint_classifier/keypoint_classifier.hdf5\n",
            "74/74 [==============================] - 0s 3ms/step - loss: 0.5140 - accuracy: 0.8094 - val_loss: 0.2460 - val_accuracy: 0.9527\n",
            "Epoch 131/1000\n",
            "60/74 [=======================>......] - ETA: 0s - loss: 0.5421 - accuracy: 0.8001\n",
            "Epoch 131: saving model to model/keypoint_classifier/keypoint_classifier.hdf5\n",
            "74/74 [==============================] - 0s 3ms/step - loss: 0.5403 - accuracy: 0.8007 - val_loss: 0.2516 - val_accuracy: 0.9514\n",
            "Epoch 132/1000\n",
            "60/74 [=======================>......] - ETA: 0s - loss: 0.5073 - accuracy: 0.8125\n",
            "Epoch 132: saving model to model/keypoint_classifier/keypoint_classifier.hdf5\n",
            "74/74 [==============================] - 0s 3ms/step - loss: 0.5131 - accuracy: 0.8101 - val_loss: 0.2416 - val_accuracy: 0.9562\n",
            "Epoch 133/1000\n",
            "57/74 [======================>.......] - ETA: 0s - loss: 0.5309 - accuracy: 0.8024\n",
            "Epoch 133: saving model to model/keypoint_classifier/keypoint_classifier.hdf5\n",
            "74/74 [==============================] - 0s 3ms/step - loss: 0.5289 - accuracy: 0.8008 - val_loss: 0.2500 - val_accuracy: 0.9514\n",
            "Epoch 134/1000\n",
            "60/74 [=======================>......] - ETA: 0s - loss: 0.5179 - accuracy: 0.8048\n",
            "Epoch 134: saving model to model/keypoint_classifier/keypoint_classifier.hdf5\n",
            "74/74 [==============================] - 0s 3ms/step - loss: 0.5218 - accuracy: 0.8032 - val_loss: 0.2448 - val_accuracy: 0.9524\n",
            "Epoch 135/1000\n",
            "59/74 [======================>.......] - ETA: 0s - loss: 0.5220 - accuracy: 0.8010\n",
            "Epoch 135: saving model to model/keypoint_classifier/keypoint_classifier.hdf5\n",
            "74/74 [==============================] - 0s 3ms/step - loss: 0.5321 - accuracy: 0.7986 - val_loss: 0.2483 - val_accuracy: 0.9521\n",
            "Epoch 136/1000\n",
            "57/74 [======================>.......] - ETA: 0s - loss: 0.5316 - accuracy: 0.7991\n",
            "Epoch 136: saving model to model/keypoint_classifier/keypoint_classifier.hdf5\n",
            "74/74 [==============================] - 0s 3ms/step - loss: 0.5230 - accuracy: 0.8025 - val_loss: 0.2433 - val_accuracy: 0.9495\n",
            "Epoch 137/1000\n",
            "67/74 [==========================>...] - ETA: 0s - loss: 0.5138 - accuracy: 0.8084\n",
            "Epoch 137: saving model to model/keypoint_classifier/keypoint_classifier.hdf5\n",
            "74/74 [==============================] - 0s 4ms/step - loss: 0.5149 - accuracy: 0.8085 - val_loss: 0.2514 - val_accuracy: 0.9505\n",
            "Epoch 138/1000\n",
            "57/74 [======================>.......] - ETA: 0s - loss: 0.5219 - accuracy: 0.8035\n",
            "Epoch 138: saving model to model/keypoint_classifier/keypoint_classifier.hdf5\n",
            "74/74 [==============================] - 0s 3ms/step - loss: 0.5218 - accuracy: 0.8050 - val_loss: 0.2466 - val_accuracy: 0.9572\n",
            "Epoch 139/1000\n",
            "60/74 [=======================>......] - ETA: 0s - loss: 0.5164 - accuracy: 0.8096\n",
            "Epoch 139: saving model to model/keypoint_classifier/keypoint_classifier.hdf5\n",
            "74/74 [==============================] - 0s 4ms/step - loss: 0.5132 - accuracy: 0.8101 - val_loss: 0.2552 - val_accuracy: 0.9508\n",
            "Epoch 140/1000\n",
            "58/74 [======================>.......] - ETA: 0s - loss: 0.5210 - accuracy: 0.8051\n",
            "Epoch 140: saving model to model/keypoint_classifier/keypoint_classifier.hdf5\n",
            "74/74 [==============================] - 0s 3ms/step - loss: 0.5200 - accuracy: 0.8045 - val_loss: 0.2490 - val_accuracy: 0.9511\n",
            "Epoch 140: early stopping\n"
          ]
        },
        {
          "data": {
            "text/plain": [
              "<keras.src.callbacks.History at 0x15f445350>"
            ]
          },
          "execution_count": 99,
          "metadata": {},
          "output_type": "execute_result"
        }
      ],
      "source": [
        "model.fit(\n",
        "    X_train,\n",
        "    y_train,\n",
        "    epochs=1000,\n",
        "    batch_size=128,\n",
        "    validation_data=(X_test, y_test),\n",
        "    callbacks=[cp_callback, es_callback]\n",
        ")"
      ]
    },
    {
      "cell_type": "code",
      "execution_count": 100,
      "metadata": {
        "colab": {
          "base_uri": "https://localhost:8080/"
        },
        "id": "pxvb2Y299hE3",
        "outputId": "59eb3185-2e37-4b9e-bc9d-ab1b8ac29b7f"
      },
      "outputs": [
        {
          "name": "stdout",
          "output_type": "stream",
          "text": [
            "25/25 [==============================] - 0s 2ms/step - loss: 0.2490 - accuracy: 0.9511\n"
          ]
        }
      ],
      "source": [
        "# Model evaluation\n",
        "val_loss, val_acc = model.evaluate(X_test, y_test, batch_size=128)"
      ]
    },
    {
      "cell_type": "code",
      "execution_count": 101,
      "metadata": {
        "id": "RBkmDeUW9hE4"
      },
      "outputs": [],
      "source": [
        "# Loading the saved model\n",
        "model = tf.keras.models.load_model(model_save_path)"
      ]
    },
    {
      "cell_type": "code",
      "execution_count": 102,
      "metadata": {
        "colab": {
          "base_uri": "https://localhost:8080/"
        },
        "id": "tFz9Tb0I9hE4",
        "outputId": "1c3b3528-54ae-4ee2-ab04-77429211cbef"
      },
      "outputs": [
        {
          "name": "stdout",
          "output_type": "stream",
          "text": [
            "1/1 [==============================] - 0s 86ms/step\n",
            "[5.5807902e-07 3.3508475e-06 8.4352760e-06 7.7465020e-02 5.6069648e-08\n",
            " 9.2252260e-01]\n",
            "5\n"
          ]
        }
      ],
      "source": [
        "# Inference test\n",
        "predict_result = model.predict(np.array([X_test[0]]))\n",
        "print(np.squeeze(predict_result))\n",
        "print(np.argmax(np.squeeze(predict_result)))"
      ]
    },
    {
      "cell_type": "markdown",
      "metadata": {
        "id": "S3U4yNWx9hE4"
      },
      "source": [
        "# Confusion matrix"
      ]
    },
    {
      "cell_type": "code",
      "execution_count": 103,
      "metadata": {
        "colab": {
          "base_uri": "https://localhost:8080/",
          "height": 582
        },
        "id": "AP1V6SCk9hE5",
        "outputId": "08e41a80-7a4a-4619-8125-ecc371368d19"
      },
      "outputs": [
        {
          "name": "stdout",
          "output_type": "stream",
          "text": [
            "98/98 [==============================] - 0s 1ms/step\n"
          ]
        },
        {
          "data": {
            "image/png": "[encoded data removed]",
            "text/plain": [
              "<Figure size 700x600 with 2 Axes>"
            ]
          },
          "metadata": {},
          "output_type": "display_data"
        },
        {
          "name": "stdout",
          "output_type": "stream",
          "text": [
            "Classification Report\n",
            "              precision    recall  f1-score   support\n",
            "\n",
            "           0       0.95      0.96      0.95      1063\n",
            "           1       0.90      0.91      0.91       425\n",
            "           2       0.98      0.99      0.99       325\n",
            "           3       0.91      0.99      0.95       337\n",
            "           4       0.98      0.99      0.98       239\n",
            "           5       0.98      0.92      0.95       741\n",
            "\n",
            "    accuracy                           0.95      3130\n",
            "   macro avg       0.95      0.96      0.95      3130\n",
            "weighted avg       0.95      0.95      0.95      3130\n",
            "\n"
          ]
        }
      ],
      "source": [
        "import pandas as pd\n",
        "import seaborn as sns\n",
        "import matplotlib.pyplot as plt\n",
        "from sklearn.metrics import confusion_matrix, classification_report\n",
        "\n",
        "def print_confusion_matrix(y_true, y_pred, report=True):\n",
        "    labels = sorted(list(set(y_true)))\n",
        "    cmx_data = confusion_matrix(y_true, y_pred, labels=labels)\n",
        "    \n",
        "    df_cmx = pd.DataFrame(cmx_data, index=labels, columns=labels)\n",
        " \n",
        "    fig, ax = plt.subplots(figsize=(7, 6))\n",
        "    sns.heatmap(df_cmx, annot=True, fmt='g' ,square=False)\n",
        "    ax.set_ylim(len(set(y_true)), 0)\n",
        "    plt.show()\n",
        "    \n",
        "    if report:\n",
        "        print('Classification Report')\n",
        "        print(classification_report(y_test, y_pred))\n",
        "\n",
        "Y_pred = model.predict(X_test)\n",
        "y_pred = np.argmax(Y_pred, axis=1)\n",
        "\n",
        "print_confusion_matrix(y_test, y_pred)"
      ]
    },
    {
      "cell_type": "markdown",
      "metadata": {
        "id": "FNP6aqzc9hE5"
      },
      "source": [
        "# Convert to model for Tensorflow-Lite"
      ]
    },
    {
      "cell_type": "code",
      "execution_count": 104,
      "metadata": {
        "id": "ODjnYyld9hE6"
      },
      "outputs": [
        {
          "name": "stderr",
          "output_type": "stream",
          "text": [
            "/Users/yoon/anaconda3/lib/python3.11/site-packages/keras/src/engine/training.py:3079: UserWarning: You are saving your model as an HDF5 file via `model.save()`. This file format is considered legacy. We recommend using instead the native Keras format, e.g. `model.save('my_model.keras')`.\n",
            "  saving_api.save_model(\n"
          ]
        }
      ],
      "source": [
        "# Save as a model dedicated to inference\n",
        "model.save(model_save_path, include_optimizer=False)"
      ]
    },
    {
      "cell_type": "code",
      "execution_count": 105,
      "metadata": {
        "colab": {
          "base_uri": "https://localhost:8080/"
        },
        "id": "zRfuK8Y59hE6",
        "outputId": "a4ca585c-b5d5-4244-8291-8674063209bb"
      },
      "outputs": [
        {
          "name": "stdout",
          "output_type": "stream",
          "text": [
            "INFO:tensorflow:Assets written to: /var/folders/m1/nzwkx_t91v1c1lzszjqmggc80000gn/T/tmpcyldq11a/assets\n"
          ]
        },
        {
          "name": "stderr",
          "output_type": "stream",
          "text": [
            "INFO:tensorflow:Assets written to: /var/folders/m1/nzwkx_t91v1c1lzszjqmggc80000gn/T/tmpcyldq11a/assets\n",
            "2023-12-29 23:09:32.941600: W tensorflow/compiler/mlir/lite/python/tf_tfl_flatbuffer_helpers.cc:378] Ignored output_format.\n",
            "2023-12-29 23:09:32.941622: W tensorflow/compiler/mlir/lite/python/tf_tfl_flatbuffer_helpers.cc:381] Ignored drop_control_dependency.\n",
            "2023-12-29 23:09:32.941895: I tensorflow/cc/saved_model/reader.cc:83] Reading SavedModel from: /var/folders/m1/nzwkx_t91v1c1lzszjqmggc80000gn/T/tmpcyldq11a\n",
            "2023-12-29 23:09:32.943764: I tensorflow/cc/saved_model/reader.cc:51] Reading meta graph with tags { serve }\n",
            "2023-12-29 23:09:32.943779: I tensorflow/cc/saved_model/reader.cc:146] Reading SavedModel debug info (if present) from: /var/folders/m1/nzwkx_t91v1c1lzszjqmggc80000gn/T/tmpcyldq11a\n",
            "2023-12-29 23:09:32.948932: I tensorflow/cc/saved_model/loader.cc:233] Restoring SavedModel bundle.\n",
            "2023-12-29 23:09:33.017469: I tensorflow/cc/saved_model/loader.cc:217] Running initialization op on SavedModel bundle at path: /var/folders/m1/nzwkx_t91v1c1lzszjqmggc80000gn/T/tmpcyldq11a\n",
            "2023-12-29 23:09:33.039598: I tensorflow/cc/saved_model/loader.cc:316] SavedModel load for tags { serve }; Status: success: OK. Took 97703 microseconds.\n"
          ]
        },
        {
          "data": {
            "text/plain": [
              "6696"
            ]
          },
          "execution_count": 105,
          "metadata": {},
          "output_type": "execute_result"
        }
      ],
      "source": [
        "# Transform model (quantization)\n",
        "\n",
        "converter = tf.lite.TFLiteConverter.from_keras_model(model)\n",
        "converter.optimizations = [tf.lite.Optimize.DEFAULT]\n",
        "tflite_quantized_model = converter.convert()\n",
        "\n",
        "open(tflite_save_path, 'wb').write(tflite_quantized_model)"
      ]
    },
    {
      "cell_type": "markdown",
      "metadata": {
        "id": "CHBPBXdx9hE6"
      },
      "source": [
        "# Inference test"
      ]
    },
    {
      "cell_type": "code",
      "execution_count": 106,
      "metadata": {
        "id": "mGAzLocO9hE7"
      },
      "outputs": [],
      "source": [
        "interpreter = tf.lite.Interpreter(model_path=tflite_save_path)\n",
        "interpreter.allocate_tensors()"
      ]
    },
    {
      "cell_type": "code",
      "execution_count": 107,
      "metadata": {
        "id": "oQuDK8YS9hE7"
      },
      "outputs": [],
      "source": [
        "# Get I / O tensor\n",
        "input_details = interpreter.get_input_details()\n",
        "output_details = interpreter.get_output_details()"
      ]
    },
    {
      "cell_type": "code",
      "execution_count": 108,
      "metadata": {
        "id": "2_ixAf_l9hE7"
      },
      "outputs": [],
      "source": [
        "interpreter.set_tensor(input_details[0]['index'], np.array([X_test[0]]))"
      ]
    },
    {
      "cell_type": "code",
      "execution_count": 109,
      "metadata": {
        "colab": {
          "base_uri": "https://localhost:8080/"
        },
        "id": "s4FoAnuc9hE7",
        "outputId": "91f18257-8d8b-4ef3-c558-e9b5f94fabbf",
        "scrolled": true
      },
      "outputs": [
        {
          "name": "stdout",
          "output_type": "stream",
          "text": [
            "CPU times: user 47 µs, sys: 16 µs, total: 63 µs\n",
            "Wall time: 61 µs\n"
          ]
        }
      ],
      "source": [
        "%%time\n",
        "# Inference implementation\n",
        "interpreter.invoke()\n",
        "tflite_results = interpreter.get_tensor(output_details[0]['index'])"
      ]
    },
    {
      "cell_type": "markdown",
      "metadata": {},
      "source": []
    },
    {
      "cell_type": "code",
      "execution_count": 110,
      "metadata": {
        "colab": {
          "base_uri": "https://localhost:8080/"
        },
        "id": "vONjp19J9hE8",
        "outputId": "77205e24-fd00-42c4-f7b6-e06e527c2cba"
      },
      "outputs": [
        {
          "name": "stdout",
          "output_type": "stream",
          "text": [
            "[5.5807959e-07 3.3508447e-06 8.4352778e-06 7.7464983e-02 5.6069545e-08\n",
            " 9.2252272e-01]\n",
            "5\n"
          ]
        }
      ],
      "source": [
        "print(np.squeeze(tflite_results))\n",
        "print(np.argmax(np.squeeze(tflite_results)))"
      ]
    }
  ],
  "metadata": {
    "accelerator": "GPU",
    "colab": {
      "collapsed_sections": [],
      "name": "keypoint_classification_EN.ipynb",
      "provenance": [],
      "toc_visible": true
    },
    "kernelspec": {
      "display_name": "base",
      "language": "python",
      "name": "python3"
    },
    "language_info": {
      "codemirror_mode": {
        "name": "ipython",
        "version": 3
      },
      "file_extension": ".py",
      "mimetype": "text/x-python",
      "name": "python",
      "nbconvert_exporter": "python",
      "pygments_lexer": "ipython3",
      "version": "3.11.5"
    },
    "vscode": {
      "interpreter": {
        "hash": "496c387321678e46806c0aa18d41fb751695eedbabeebf9b8248fa467a49336f"
      }
    }
  },
  "nbformat": 4,
  "nbformat_minor": 0
}
