{
  "cells": [
    {
      "cell_type": "code",
      "execution_count": 57,
      "metadata": {
        "id": "igMyGnjE9hEp"
      },
      "outputs": [],
      "source": [
        "import csv\n",
        "\n",
        "import numpy as np\n",
        "import tensorflow as tf\n",
        "from sklearn.model_selection import train_test_split\n",
        "\n",
        "RANDOM_SEED = 42"
      ]
    },
    {
      "cell_type": "markdown",
      "metadata": {
        "id": "t2HDvhIu9hEr"
      },
      "source": [
        "# Specify each path"
      ]
    },
    {
      "cell_type": "code",
      "execution_count": 58,
      "metadata": {
        "id": "9NvZP2Zn9hEy"
      },
      "outputs": [],
      "source": [
        "dataset = 'model/keypoint_classifier/keypoint.csv'\n",
        "model_save_path = 'model/keypoint_classifier/keypoint_classifier.hdf5'\n",
        "tflite_save_path = 'model/keypoint_classifier/keypoint_classifier.tflite'"
      ]
    },
    {
      "cell_type": "markdown",
      "metadata": {
        "id": "s5oMH7x19hEz"
      },
      "source": [
        "# Set number of classes"
      ]
    },
    {
      "cell_type": "code",
      "execution_count": 59,
      "metadata": {
        "id": "du4kodXL9hEz"
      },
      "outputs": [],
      "source": [
        "# number of classes\n",
        "NUM_CLASSES = 7"
      ]
    },
    {
      "cell_type": "markdown",
      "metadata": {
        "id": "XjnL0uso9hEz"
      },
      "source": [
        "# Dataset reading"
      ]
    },
    {
      "cell_type": "code",
      "execution_count": 60,
      "metadata": {
        "id": "QT5ZqtEz9hE0"
      },
      "outputs": [],
      "source": [
        "X_dataset = np.loadtxt(dataset, delimiter=',', dtype='float32', usecols=list(range(1, (21 * 2) + 1)))"
      ]
    },
    {
      "cell_type": "code",
      "execution_count": 61,
      "metadata": {
        "id": "QmoKFsp49hE0"
      },
      "outputs": [],
      "source": [
        "y_dataset = np.loadtxt(dataset, delimiter=',', dtype='int32', usecols=(0))"
      ]
    },
    {
      "cell_type": "code",
      "execution_count": 62,
      "metadata": {
        "id": "xQU7JTZ_9hE0"
      },
      "outputs": [],
      "source": [
        "X_train, X_test, y_train, y_test = train_test_split(X_dataset, y_dataset, train_size=0.75, random_state=RANDOM_SEED)"
      ]
    },
    {
      "cell_type": "markdown",
      "metadata": {
        "id": "mxK_lETT9hE0"
      },
      "source": [
        "# Model building"
      ]
    },
    {
      "cell_type": "code",
      "execution_count": 63,
      "metadata": {
        "id": "vHBmUf1t9hE1"
      },
      "outputs": [],
      "source": [
        "model = tf.keras.models.Sequential([\n",
        "    tf.keras.layers.Input((21 * 2, )),\n",
        "    tf.keras.layers.Dropout(0.2),\n",
        "    tf.keras.layers.Dense(20, activation='relu'),\n",
        "    tf.keras.layers.Dropout(0.4),\n",
        "    tf.keras.layers.Dense(10, activation='relu'),\n",
        "    tf.keras.layers.Dense(NUM_CLASSES, activation='softmax')\n",
        "])"
      ]
    },
    {
      "cell_type": "code",
      "execution_count": 64,
      "metadata": {
        "colab": {
          "base_uri": "https://localhost:8080/"
        },
        "id": "ypqky9tc9hE1",
        "outputId": "5db082bb-30e3-4110-bf63-a1ee777ecd46"
      },
      "outputs": [
        {
          "name": "stdout",
          "output_type": "stream",
          "text": [
            "Model: \"sequential_3\"\n",
            "_________________________________________________________________\n",
            " Layer (type)                Output Shape              Param #   \n",
            "=================================================================\n",
            " dropout_6 (Dropout)         (None, 42)                0         \n",
            "                                                                 \n",
            " dense_9 (Dense)             (None, 20)                860       \n",
            "                                                                 \n",
            " dropout_7 (Dropout)         (None, 20)                0         \n",
            "                                                                 \n",
            " dense_10 (Dense)            (None, 10)                210       \n",
            "                                                                 \n",
            " dense_11 (Dense)            (None, 7)                 77        \n",
            "                                                                 \n",
            "=================================================================\n",
            "Total params: 1147 (4.48 KB)\n",
            "Trainable params: 1147 (4.48 KB)\n",
            "Non-trainable params: 0 (0.00 Byte)\n",
            "_________________________________________________________________\n"
          ]
        }
      ],
      "source": [
        "model.summary()  # tf.keras.utils.plot_model(model, show_shapes=True)"
      ]
    },
    {
      "cell_type": "code",
      "execution_count": 65,
      "metadata": {
        "id": "MbMjOflQ9hE1"
      },
      "outputs": [],
      "source": [
        "# Model checkpoint callback\n",
        "cp_callback = tf.keras.callbacks.ModelCheckpoint(\n",
        "    model_save_path, verbose=1, save_weights_only=False)\n",
        "# Callback for early stopping\n",
        "es_callback = tf.keras.callbacks.EarlyStopping(patience=20, verbose=1)"
      ]
    },
    {
      "cell_type": "code",
      "execution_count": 66,
      "metadata": {
        "id": "c3Dac0M_9hE2"
      },
      "outputs": [],
      "source": [
        "# Model compilation\n",
        "model.compile(\n",
        "    optimizer='adam',\n",
        "    loss='sparse_categorical_crossentropy',\n",
        "    metrics=['accuracy']\n",
        ")"
      ]
    },
    {
      "cell_type": "markdown",
      "metadata": {
        "id": "7XI0j1Iu9hE2"
      },
      "source": [
        "# Model training"
      ]
    },
    {
      "cell_type": "code",
      "execution_count": 67,
      "metadata": {
        "colab": {
          "base_uri": "https://localhost:8080/"
        },
        "id": "WirBl-JE9hE3",
        "outputId": "71b30ca2-8294-4d9d-8aa2-800d90d399de",
        "scrolled": true
      },
      "outputs": [
        {
          "name": "stdout",
          "output_type": "stream",
          "text": [
            "Epoch 1/1000\n",
            "37/59 [=================>............] - ETA: 0s - loss: 1.8554 - accuracy: 0.2095 \n",
            "Epoch 1: saving model to model/keypoint_classifier/keypoint_classifier.hdf5\n",
            "59/59 [==============================] - 1s 5ms/step - loss: 1.7954 - accuracy: 0.2630 - val_loss: 1.5812 - val_accuracy: 0.4848\n",
            "Epoch 2/1000\n",
            "34/59 [================>.............] - ETA: 0s - loss: 1.5544 - accuracy: 0.4538\n",
            "Epoch 2: saving model to model/keypoint_classifier/keypoint_classifier.hdf5\n",
            "59/59 [==============================] - 0s 2ms/step - loss: 1.4930 - accuracy: 0.4758 - val_loss: 1.2214 - val_accuracy: 0.6303\n",
            "Epoch 3/1000\n",
            " 1/59 [..............................] - ETA: 0s - loss: 1.3926 - accuracy: 0.5234"
          ]
        },
        {
          "name": "stderr",
          "output_type": "stream",
          "text": [
            "/Users/yoon/anaconda3/lib/python3.11/site-packages/keras/src/engine/training.py:3079: UserWarning: You are saving your model as an HDF5 file via `model.save()`. This file format is considered legacy. We recommend using instead the native Keras format, e.g. `model.save('my_model.keras')`.\n",
            "  saving_api.save_model(\n"
          ]
        },
        {
          "name": "stdout",
          "output_type": "stream",
          "text": [
            "43/59 [====================>.........] - ETA: 0s - loss: 1.3057 - accuracy: 0.5262\n",
            "Epoch 3: saving model to model/keypoint_classifier/keypoint_classifier.hdf5\n",
            "59/59 [==============================] - 0s 3ms/step - loss: 1.2814 - accuracy: 0.5321 - val_loss: 1.0260 - val_accuracy: 0.6047\n",
            "Epoch 4/1000\n",
            "57/59 [===========================>..] - ETA: 0s - loss: 1.1576 - accuracy: 0.5596\n",
            "Epoch 4: saving model to model/keypoint_classifier/keypoint_classifier.hdf5\n",
            "59/59 [==============================] - 0s 5ms/step - loss: 1.1558 - accuracy: 0.5615 - val_loss: 0.9125 - val_accuracy: 0.7013\n",
            "Epoch 5/1000\n",
            "39/59 [==================>...........] - ETA: 0s - loss: 1.1095 - accuracy: 0.5681\n",
            "Epoch 5: saving model to model/keypoint_classifier/keypoint_classifier.hdf5\n",
            "59/59 [==============================] - 0s 4ms/step - loss: 1.0805 - accuracy: 0.5815 - val_loss: 0.8180 - val_accuracy: 0.7791\n",
            "Epoch 6/1000\n",
            "32/59 [===============>..............] - ETA: 0s - loss: 1.0046 - accuracy: 0.6121\n",
            "Epoch 6: saving model to model/keypoint_classifier/keypoint_classifier.hdf5\n",
            "59/59 [==============================] - 0s 5ms/step - loss: 0.9982 - accuracy: 0.6167 - val_loss: 0.7338 - val_accuracy: 0.8051\n",
            "Epoch 7/1000\n",
            "28/59 [=============>................] - ETA: 0s - loss: 0.9425 - accuracy: 0.6311\n",
            "Epoch 7: saving model to model/keypoint_classifier/keypoint_classifier.hdf5\n",
            "59/59 [==============================] - 0s 3ms/step - loss: 0.9429 - accuracy: 0.6327 - val_loss: 0.6708 - val_accuracy: 0.8316\n",
            "Epoch 8/1000\n",
            "45/59 [=====================>........] - ETA: 0s - loss: 0.9136 - accuracy: 0.6422\n",
            "Epoch 8: saving model to model/keypoint_classifier/keypoint_classifier.hdf5\n",
            "59/59 [==============================] - 0s 7ms/step - loss: 0.9001 - accuracy: 0.6473 - val_loss: 0.6303 - val_accuracy: 0.8296\n",
            "Epoch 9/1000\n",
            "52/59 [=========================>....] - ETA: 0s - loss: 0.8679 - accuracy: 0.6514\n",
            "Epoch 9: saving model to model/keypoint_classifier/keypoint_classifier.hdf5\n",
            "59/59 [==============================] - 0s 5ms/step - loss: 0.8678 - accuracy: 0.6518 - val_loss: 0.5929 - val_accuracy: 0.8492\n",
            "Epoch 10/1000\n",
            "58/59 [============================>.] - ETA: 0s - loss: 0.8461 - accuracy: 0.6635\n",
            "Epoch 10: saving model to model/keypoint_classifier/keypoint_classifier.hdf5\n",
            "59/59 [==============================] - 0s 3ms/step - loss: 0.8461 - accuracy: 0.6635 - val_loss: 0.5646 - val_accuracy: 0.8637\n",
            "Epoch 11/1000\n",
            "40/59 [===================>..........] - ETA: 0s - loss: 0.8212 - accuracy: 0.6734\n",
            "Epoch 11: saving model to model/keypoint_classifier/keypoint_classifier.hdf5\n",
            "59/59 [==============================] - 0s 2ms/step - loss: 0.8226 - accuracy: 0.6733 - val_loss: 0.5351 - val_accuracy: 0.8557\n",
            "Epoch 12/1000\n",
            "42/59 [====================>.........] - ETA: 0s - loss: 0.7882 - accuracy: 0.6845\n",
            "Epoch 12: saving model to model/keypoint_classifier/keypoint_classifier.hdf5\n",
            "59/59 [==============================] - 0s 2ms/step - loss: 0.7870 - accuracy: 0.6852 - val_loss: 0.5082 - val_accuracy: 0.8681\n",
            "Epoch 13/1000\n",
            "36/59 [=================>............] - ETA: 0s - loss: 0.7666 - accuracy: 0.6923\n",
            "Epoch 13: saving model to model/keypoint_classifier/keypoint_classifier.hdf5\n",
            "59/59 [==============================] - 0s 2ms/step - loss: 0.7694 - accuracy: 0.6906 - val_loss: 0.4919 - val_accuracy: 0.8545\n",
            "Epoch 14/1000\n",
            "39/59 [==================>...........] - ETA: 0s - loss: 0.7631 - accuracy: 0.6925\n",
            "Epoch 14: saving model to model/keypoint_classifier/keypoint_classifier.hdf5\n",
            "59/59 [==============================] - 0s 3ms/step - loss: 0.7658 - accuracy: 0.6898 - val_loss: 0.4803 - val_accuracy: 0.8681\n",
            "Epoch 15/1000\n",
            "34/59 [================>.............] - ETA: 0s - loss: 0.7320 - accuracy: 0.7091\n",
            "Epoch 15: saving model to model/keypoint_classifier/keypoint_classifier.hdf5\n",
            "59/59 [==============================] - 0s 2ms/step - loss: 0.7429 - accuracy: 0.7041 - val_loss: 0.4596 - val_accuracy: 0.8701\n",
            "Epoch 16/1000\n",
            "32/59 [===============>..............] - ETA: 0s - loss: 0.7314 - accuracy: 0.6992\n",
            "Epoch 16: saving model to model/keypoint_classifier/keypoint_classifier.hdf5\n",
            "59/59 [==============================] - 0s 4ms/step - loss: 0.7275 - accuracy: 0.7056 - val_loss: 0.4387 - val_accuracy: 0.8673\n",
            "Epoch 17/1000\n",
            "39/59 [==================>...........] - ETA: 0s - loss: 0.7211 - accuracy: 0.7145\n",
            "Epoch 17: saving model to model/keypoint_classifier/keypoint_classifier.hdf5\n",
            "59/59 [==============================] - 0s 3ms/step - loss: 0.7207 - accuracy: 0.7129 - val_loss: 0.4224 - val_accuracy: 0.8769\n",
            "Epoch 18/1000\n",
            "33/59 [===============>..............] - ETA: 0s - loss: 0.7115 - accuracy: 0.7161\n",
            "Epoch 18: saving model to model/keypoint_classifier/keypoint_classifier.hdf5\n",
            "59/59 [==============================] - 0s 2ms/step - loss: 0.7098 - accuracy: 0.7189 - val_loss: 0.4132 - val_accuracy: 0.8829\n",
            "Epoch 19/1000\n",
            "33/59 [===============>..............] - ETA: 0s - loss: 0.6874 - accuracy: 0.7154\n",
            "Epoch 19: saving model to model/keypoint_classifier/keypoint_classifier.hdf5\n",
            "59/59 [==============================] - 0s 3ms/step - loss: 0.6905 - accuracy: 0.7176 - val_loss: 0.3962 - val_accuracy: 0.8865\n",
            "Epoch 20/1000\n",
            "44/59 [=====================>........] - ETA: 0s - loss: 0.6862 - accuracy: 0.7218\n",
            "Epoch 20: saving model to model/keypoint_classifier/keypoint_classifier.hdf5\n",
            "59/59 [==============================] - 0s 2ms/step - loss: 0.6793 - accuracy: 0.7239 - val_loss: 0.3906 - val_accuracy: 0.8865\n",
            "Epoch 21/1000\n",
            "36/59 [=================>............] - ETA: 0s - loss: 0.6692 - accuracy: 0.7268\n",
            "Epoch 21: saving model to model/keypoint_classifier/keypoint_classifier.hdf5\n",
            "59/59 [==============================] - 0s 3ms/step - loss: 0.6660 - accuracy: 0.7296 - val_loss: 0.3708 - val_accuracy: 0.8957\n",
            "Epoch 22/1000\n",
            "43/59 [====================>.........] - ETA: 0s - loss: 0.6442 - accuracy: 0.7420\n",
            "Epoch 22: saving model to model/keypoint_classifier/keypoint_classifier.hdf5\n",
            "59/59 [==============================] - 0s 3ms/step - loss: 0.6469 - accuracy: 0.7461 - val_loss: 0.3541 - val_accuracy: 0.8941\n",
            "Epoch 23/1000\n",
            "50/59 [========================>.....] - ETA: 0s - loss: 0.6499 - accuracy: 0.7398\n",
            "Epoch 23: saving model to model/keypoint_classifier/keypoint_classifier.hdf5\n",
            "59/59 [==============================] - 0s 6ms/step - loss: 0.6464 - accuracy: 0.7427 - val_loss: 0.3466 - val_accuracy: 0.9102\n",
            "Epoch 24/1000\n",
            "59/59 [==============================] - ETA: 0s - loss: 0.6504 - accuracy: 0.7404\n",
            "Epoch 24: saving model to model/keypoint_classifier/keypoint_classifier.hdf5\n",
            "59/59 [==============================] - 0s 5ms/step - loss: 0.6504 - accuracy: 0.7404 - val_loss: 0.3363 - val_accuracy: 0.9102\n",
            "Epoch 25/1000\n",
            "54/59 [==========================>...] - ETA: 0s - loss: 0.6425 - accuracy: 0.7478\n",
            "Epoch 25: saving model to model/keypoint_classifier/keypoint_classifier.hdf5\n",
            "59/59 [==============================] - 0s 3ms/step - loss: 0.6426 - accuracy: 0.7479 - val_loss: 0.3291 - val_accuracy: 0.9142\n",
            "Epoch 26/1000\n",
            "42/59 [====================>.........] - ETA: 0s - loss: 0.6442 - accuracy: 0.7439\n",
            "Epoch 26: saving model to model/keypoint_classifier/keypoint_classifier.hdf5\n",
            "59/59 [==============================] - 0s 2ms/step - loss: 0.6387 - accuracy: 0.7458 - val_loss: 0.3248 - val_accuracy: 0.9082\n",
            "Epoch 27/1000\n",
            "32/59 [===============>..............] - ETA: 0s - loss: 0.6062 - accuracy: 0.7588\n",
            "Epoch 27: saving model to model/keypoint_classifier/keypoint_classifier.hdf5\n",
            "59/59 [==============================] - 0s 3ms/step - loss: 0.6173 - accuracy: 0.7566 - val_loss: 0.3087 - val_accuracy: 0.9178\n",
            "Epoch 28/1000\n",
            "38/59 [==================>...........] - ETA: 0s - loss: 0.6009 - accuracy: 0.7590\n",
            "Epoch 28: saving model to model/keypoint_classifier/keypoint_classifier.hdf5\n",
            "59/59 [==============================] - 0s 2ms/step - loss: 0.6055 - accuracy: 0.7601 - val_loss: 0.3001 - val_accuracy: 0.9142\n",
            "Epoch 29/1000\n",
            "42/59 [====================>.........] - ETA: 0s - loss: 0.6085 - accuracy: 0.7641\n",
            "Epoch 29: saving model to model/keypoint_classifier/keypoint_classifier.hdf5\n",
            "59/59 [==============================] - 0s 2ms/step - loss: 0.6124 - accuracy: 0.7646 - val_loss: 0.2994 - val_accuracy: 0.9246\n",
            "Epoch 30/1000\n",
            "43/59 [====================>.........] - ETA: 0s - loss: 0.6000 - accuracy: 0.7633\n",
            "Epoch 30: saving model to model/keypoint_classifier/keypoint_classifier.hdf5\n",
            "59/59 [==============================] - 0s 2ms/step - loss: 0.6053 - accuracy: 0.7621 - val_loss: 0.2913 - val_accuracy: 0.9234\n",
            "Epoch 31/1000\n",
            "40/59 [===================>..........] - ETA: 0s - loss: 0.5994 - accuracy: 0.7650\n",
            "Epoch 31: saving model to model/keypoint_classifier/keypoint_classifier.hdf5\n",
            "59/59 [==============================] - 0s 2ms/step - loss: 0.6037 - accuracy: 0.7636 - val_loss: 0.2879 - val_accuracy: 0.9302\n",
            "Epoch 32/1000\n",
            "49/59 [=======================>......] - ETA: 0s - loss: 0.5917 - accuracy: 0.7733\n",
            "Epoch 32: saving model to model/keypoint_classifier/keypoint_classifier.hdf5\n",
            "59/59 [==============================] - 0s 3ms/step - loss: 0.5912 - accuracy: 0.7740 - val_loss: 0.2862 - val_accuracy: 0.9302\n",
            "Epoch 33/1000\n",
            "43/59 [====================>.........] - ETA: 0s - loss: 0.5898 - accuracy: 0.7716\n",
            "Epoch 33: saving model to model/keypoint_classifier/keypoint_classifier.hdf5\n",
            "59/59 [==============================] - 0s 4ms/step - loss: 0.5911 - accuracy: 0.7708 - val_loss: 0.2779 - val_accuracy: 0.9310\n",
            "Epoch 34/1000\n",
            "43/59 [====================>.........] - ETA: 0s - loss: 0.5998 - accuracy: 0.7685\n",
            "Epoch 34: saving model to model/keypoint_classifier/keypoint_classifier.hdf5\n",
            "59/59 [==============================] - 0s 2ms/step - loss: 0.5941 - accuracy: 0.7694 - val_loss: 0.2870 - val_accuracy: 0.9246\n",
            "Epoch 35/1000\n",
            "48/59 [=======================>......] - ETA: 0s - loss: 0.5728 - accuracy: 0.7749\n",
            "Epoch 35: saving model to model/keypoint_classifier/keypoint_classifier.hdf5\n",
            "59/59 [==============================] - 0s 3ms/step - loss: 0.5810 - accuracy: 0.7740 - val_loss: 0.2763 - val_accuracy: 0.9310\n",
            "Epoch 36/1000\n",
            "39/59 [==================>...........] - ETA: 0s - loss: 0.5868 - accuracy: 0.7764\n",
            "Epoch 36: saving model to model/keypoint_classifier/keypoint_classifier.hdf5\n",
            "59/59 [==============================] - 0s 3ms/step - loss: 0.5780 - accuracy: 0.7796 - val_loss: 0.2708 - val_accuracy: 0.9330\n",
            "Epoch 37/1000\n",
            "52/59 [=========================>....] - ETA: 0s - loss: 0.5808 - accuracy: 0.7779\n",
            "Epoch 37: saving model to model/keypoint_classifier/keypoint_classifier.hdf5\n",
            "59/59 [==============================] - 0s 4ms/step - loss: 0.5796 - accuracy: 0.7765 - val_loss: 0.2662 - val_accuracy: 0.9310\n",
            "Epoch 38/1000\n",
            "39/59 [==================>...........] - ETA: 0s - loss: 0.5774 - accuracy: 0.7851\n",
            "Epoch 38: saving model to model/keypoint_classifier/keypoint_classifier.hdf5\n",
            "59/59 [==============================] - 0s 2ms/step - loss: 0.5756 - accuracy: 0.7870 - val_loss: 0.2640 - val_accuracy: 0.9314\n",
            "Epoch 39/1000\n",
            "31/59 [==============>...............] - ETA: 0s - loss: 0.5652 - accuracy: 0.7833\n",
            "Epoch 39: saving model to model/keypoint_classifier/keypoint_classifier.hdf5\n",
            "59/59 [==============================] - 0s 3ms/step - loss: 0.5616 - accuracy: 0.7859 - val_loss: 0.2644 - val_accuracy: 0.9322\n",
            "Epoch 40/1000\n",
            "43/59 [====================>.........] - ETA: 0s - loss: 0.5621 - accuracy: 0.7883\n",
            "Epoch 40: saving model to model/keypoint_classifier/keypoint_classifier.hdf5\n",
            "59/59 [==============================] - 0s 2ms/step - loss: 0.5703 - accuracy: 0.7858 - val_loss: 0.2627 - val_accuracy: 0.9314\n",
            "Epoch 41/1000\n",
            "36/59 [=================>............] - ETA: 0s - loss: 0.5664 - accuracy: 0.7765\n",
            "Epoch 41: saving model to model/keypoint_classifier/keypoint_classifier.hdf5\n",
            "59/59 [==============================] - 0s 3ms/step - loss: 0.5603 - accuracy: 0.7859 - val_loss: 0.2587 - val_accuracy: 0.9338\n",
            "Epoch 42/1000\n",
            "42/59 [====================>.........] - ETA: 0s - loss: 0.5636 - accuracy: 0.7865\n",
            "Epoch 42: saving model to model/keypoint_classifier/keypoint_classifier.hdf5\n",
            "59/59 [==============================] - 0s 3ms/step - loss: 0.5637 - accuracy: 0.7860 - val_loss: 0.2575 - val_accuracy: 0.9338\n",
            "Epoch 43/1000\n",
            "36/59 [=================>............] - ETA: 0s - loss: 0.5510 - accuracy: 0.7934\n",
            "Epoch 43: saving model to model/keypoint_classifier/keypoint_classifier.hdf5\n",
            "59/59 [==============================] - 0s 2ms/step - loss: 0.5618 - accuracy: 0.7871 - val_loss: 0.2516 - val_accuracy: 0.9370\n",
            "Epoch 44/1000\n",
            "35/59 [================>.............] - ETA: 0s - loss: 0.5761 - accuracy: 0.7891\n",
            "Epoch 44: saving model to model/keypoint_classifier/keypoint_classifier.hdf5\n",
            "59/59 [==============================] - 0s 4ms/step - loss: 0.5605 - accuracy: 0.7926 - val_loss: 0.2476 - val_accuracy: 0.9362\n",
            "Epoch 45/1000\n",
            "42/59 [====================>.........] - ETA: 0s - loss: 0.5682 - accuracy: 0.7863\n",
            "Epoch 45: saving model to model/keypoint_classifier/keypoint_classifier.hdf5\n",
            "59/59 [==============================] - 0s 2ms/step - loss: 0.5569 - accuracy: 0.7882 - val_loss: 0.2487 - val_accuracy: 0.9391\n",
            "Epoch 46/1000\n",
            "35/59 [================>.............] - ETA: 0s - loss: 0.5561 - accuracy: 0.7942\n",
            "Epoch 46: saving model to model/keypoint_classifier/keypoint_classifier.hdf5\n",
            "59/59 [==============================] - 0s 2ms/step - loss: 0.5622 - accuracy: 0.7866 - val_loss: 0.2493 - val_accuracy: 0.9350\n",
            "Epoch 47/1000\n",
            "39/59 [==================>...........] - ETA: 0s - loss: 0.5513 - accuracy: 0.7845\n",
            "Epoch 47: saving model to model/keypoint_classifier/keypoint_classifier.hdf5\n",
            "59/59 [==============================] - 0s 3ms/step - loss: 0.5501 - accuracy: 0.7898 - val_loss: 0.2491 - val_accuracy: 0.9383\n",
            "Epoch 48/1000\n",
            "37/59 [=================>............] - ETA: 0s - loss: 0.5377 - accuracy: 0.7939\n",
            "Epoch 48: saving model to model/keypoint_classifier/keypoint_classifier.hdf5\n",
            "59/59 [==============================] - 0s 2ms/step - loss: 0.5383 - accuracy: 0.7968 - val_loss: 0.2421 - val_accuracy: 0.9391\n",
            "Epoch 49/1000\n",
            "46/59 [======================>.......] - ETA: 0s - loss: 0.5456 - accuracy: 0.7874\n",
            "Epoch 49: saving model to model/keypoint_classifier/keypoint_classifier.hdf5\n",
            "59/59 [==============================] - 0s 4ms/step - loss: 0.5372 - accuracy: 0.7910 - val_loss: 0.2382 - val_accuracy: 0.9374\n",
            "Epoch 50/1000\n",
            "48/59 [=======================>......] - ETA: 0s - loss: 0.5255 - accuracy: 0.7920\n",
            "Epoch 50: saving model to model/keypoint_classifier/keypoint_classifier.hdf5\n",
            "59/59 [==============================] - 0s 4ms/step - loss: 0.5371 - accuracy: 0.7875 - val_loss: 0.2367 - val_accuracy: 0.9411\n",
            "Epoch 51/1000\n",
            "56/59 [===========================>..] - ETA: 0s - loss: 0.5444 - accuracy: 0.7973\n",
            "Epoch 51: saving model to model/keypoint_classifier/keypoint_classifier.hdf5\n",
            "59/59 [==============================] - 0s 3ms/step - loss: 0.5407 - accuracy: 0.7983 - val_loss: 0.2420 - val_accuracy: 0.9387\n",
            "Epoch 52/1000\n",
            "54/59 [==========================>...] - ETA: 0s - loss: 0.5426 - accuracy: 0.7924\n",
            "Epoch 52: saving model to model/keypoint_classifier/keypoint_classifier.hdf5\n",
            "59/59 [==============================] - 0s 3ms/step - loss: 0.5386 - accuracy: 0.7944 - val_loss: 0.2351 - val_accuracy: 0.9443\n",
            "Epoch 53/1000\n",
            "47/59 [======================>.......] - ETA: 0s - loss: 0.5369 - accuracy: 0.7940\n",
            "Epoch 53: saving model to model/keypoint_classifier/keypoint_classifier.hdf5\n",
            "59/59 [==============================] - 0s 4ms/step - loss: 0.5395 - accuracy: 0.7950 - val_loss: 0.2354 - val_accuracy: 0.9399\n",
            "Epoch 54/1000\n",
            "26/59 [============>.................] - ETA: 0s - loss: 0.5265 - accuracy: 0.8038\n",
            "Epoch 54: saving model to model/keypoint_classifier/keypoint_classifier.hdf5\n",
            "59/59 [==============================] - 0s 4ms/step - loss: 0.5271 - accuracy: 0.8043 - val_loss: 0.2294 - val_accuracy: 0.9455\n",
            "Epoch 55/1000\n",
            "40/59 [===================>..........] - ETA: 0s - loss: 0.5463 - accuracy: 0.7934\n",
            "Epoch 55: saving model to model/keypoint_classifier/keypoint_classifier.hdf5\n",
            "59/59 [==============================] - 0s 2ms/step - loss: 0.5369 - accuracy: 0.7974 - val_loss: 0.2368 - val_accuracy: 0.9467\n",
            "Epoch 56/1000\n",
            "42/59 [====================>.........] - ETA: 0s - loss: 0.5468 - accuracy: 0.7907\n",
            "Epoch 56: saving model to model/keypoint_classifier/keypoint_classifier.hdf5\n",
            "59/59 [==============================] - 0s 5ms/step - loss: 0.5384 - accuracy: 0.7959 - val_loss: 0.2329 - val_accuracy: 0.9423\n",
            "Epoch 57/1000\n",
            "55/59 [==========================>...] - ETA: 0s - loss: 0.5304 - accuracy: 0.8064\n",
            "Epoch 57: saving model to model/keypoint_classifier/keypoint_classifier.hdf5\n",
            "59/59 [==============================] - 0s 5ms/step - loss: 0.5301 - accuracy: 0.8053 - val_loss: 0.2353 - val_accuracy: 0.9423\n",
            "Epoch 58/1000\n",
            "47/59 [======================>.......] - ETA: 0s - loss: 0.5325 - accuracy: 0.7969\n",
            "Epoch 58: saving model to model/keypoint_classifier/keypoint_classifier.hdf5\n",
            "59/59 [==============================] - 0s 6ms/step - loss: 0.5280 - accuracy: 0.7980 - val_loss: 0.2349 - val_accuracy: 0.9447\n",
            "Epoch 59/1000\n",
            "39/59 [==================>...........] - ETA: 0s - loss: 0.5296 - accuracy: 0.8011\n",
            "Epoch 59: saving model to model/keypoint_classifier/keypoint_classifier.hdf5\n",
            "59/59 [==============================] - 0s 4ms/step - loss: 0.5227 - accuracy: 0.8013 - val_loss: 0.2305 - val_accuracy: 0.9463\n",
            "Epoch 60/1000\n",
            "35/59 [================>.............] - ETA: 0s - loss: 0.5257 - accuracy: 0.7967\n",
            "Epoch 60: saving model to model/keypoint_classifier/keypoint_classifier.hdf5\n",
            "59/59 [==============================] - 0s 2ms/step - loss: 0.5238 - accuracy: 0.8050 - val_loss: 0.2272 - val_accuracy: 0.9487\n",
            "Epoch 61/1000\n",
            "37/59 [=================>............] - ETA: 0s - loss: 0.5306 - accuracy: 0.8011\n",
            "Epoch 61: saving model to model/keypoint_classifier/keypoint_classifier.hdf5\n",
            "59/59 [==============================] - 0s 3ms/step - loss: 0.5303 - accuracy: 0.7997 - val_loss: 0.2251 - val_accuracy: 0.9471\n",
            "Epoch 62/1000\n",
            "34/59 [================>.............] - ETA: 0s - loss: 0.5222 - accuracy: 0.8054\n",
            "Epoch 62: saving model to model/keypoint_classifier/keypoint_classifier.hdf5\n",
            "59/59 [==============================] - 0s 3ms/step - loss: 0.5376 - accuracy: 0.8035 - val_loss: 0.2211 - val_accuracy: 0.9511\n",
            "Epoch 63/1000\n",
            "53/59 [=========================>....] - ETA: 0s - loss: 0.5348 - accuracy: 0.8013\n",
            "Epoch 63: saving model to model/keypoint_classifier/keypoint_classifier.hdf5\n",
            "59/59 [==============================] - 0s 5ms/step - loss: 0.5356 - accuracy: 0.7995 - val_loss: 0.2224 - val_accuracy: 0.9483\n",
            "Epoch 64/1000\n",
            "54/59 [==========================>...] - ETA: 0s - loss: 0.5215 - accuracy: 0.8099\n",
            "Epoch 64: saving model to model/keypoint_classifier/keypoint_classifier.hdf5\n",
            "59/59 [==============================] - 0s 3ms/step - loss: 0.5228 - accuracy: 0.8078 - val_loss: 0.2219 - val_accuracy: 0.9483\n",
            "Epoch 65/1000\n",
            "37/59 [=================>............] - ETA: 0s - loss: 0.5214 - accuracy: 0.7969\n",
            "Epoch 65: saving model to model/keypoint_classifier/keypoint_classifier.hdf5\n",
            "59/59 [==============================] - 0s 3ms/step - loss: 0.5124 - accuracy: 0.8019 - val_loss: 0.2203 - val_accuracy: 0.9487\n",
            "Epoch 66/1000\n",
            "31/59 [==============>...............] - ETA: 0s - loss: 0.5132 - accuracy: 0.8039\n",
            "Epoch 66: saving model to model/keypoint_classifier/keypoint_classifier.hdf5\n",
            "59/59 [==============================] - 0s 3ms/step - loss: 0.5248 - accuracy: 0.7986 - val_loss: 0.2220 - val_accuracy: 0.9495\n",
            "Epoch 67/1000\n",
            "42/59 [====================>.........] - ETA: 0s - loss: 0.5252 - accuracy: 0.7997\n",
            "Epoch 67: saving model to model/keypoint_classifier/keypoint_classifier.hdf5\n",
            "59/59 [==============================] - 0s 2ms/step - loss: 0.5228 - accuracy: 0.8009 - val_loss: 0.2194 - val_accuracy: 0.9495\n",
            "Epoch 68/1000\n",
            "52/59 [=========================>....] - ETA: 0s - loss: 0.5088 - accuracy: 0.8086\n",
            "Epoch 68: saving model to model/keypoint_classifier/keypoint_classifier.hdf5\n",
            "59/59 [==============================] - 0s 4ms/step - loss: 0.5095 - accuracy: 0.8077 - val_loss: 0.2172 - val_accuracy: 0.9495\n",
            "Epoch 69/1000\n",
            "48/59 [=======================>......] - ETA: 0s - loss: 0.5178 - accuracy: 0.8050\n",
            "Epoch 69: saving model to model/keypoint_classifier/keypoint_classifier.hdf5\n",
            "59/59 [==============================] - 0s 3ms/step - loss: 0.5111 - accuracy: 0.8075 - val_loss: 0.2158 - val_accuracy: 0.9507\n",
            "Epoch 70/1000\n",
            "36/59 [=================>............] - ETA: 0s - loss: 0.5187 - accuracy: 0.8047\n",
            "Epoch 70: saving model to model/keypoint_classifier/keypoint_classifier.hdf5\n",
            "59/59 [==============================] - 0s 2ms/step - loss: 0.5142 - accuracy: 0.8089 - val_loss: 0.2215 - val_accuracy: 0.9479\n",
            "Epoch 71/1000\n",
            "35/59 [================>.............] - ETA: 0s - loss: 0.5164 - accuracy: 0.8107\n",
            "Epoch 71: saving model to model/keypoint_classifier/keypoint_classifier.hdf5\n",
            "59/59 [==============================] - 0s 3ms/step - loss: 0.5097 - accuracy: 0.8107 - val_loss: 0.2203 - val_accuracy: 0.9471\n",
            "Epoch 72/1000\n",
            "40/59 [===================>..........] - ETA: 0s - loss: 0.4906 - accuracy: 0.8160\n",
            "Epoch 72: saving model to model/keypoint_classifier/keypoint_classifier.hdf5\n",
            "59/59 [==============================] - 0s 4ms/step - loss: 0.4985 - accuracy: 0.8094 - val_loss: 0.2154 - val_accuracy: 0.9507\n",
            "Epoch 73/1000\n",
            "36/59 [=================>............] - ETA: 0s - loss: 0.5047 - accuracy: 0.8073\n",
            "Epoch 73: saving model to model/keypoint_classifier/keypoint_classifier.hdf5\n",
            "59/59 [==============================] - 0s 3ms/step - loss: 0.5153 - accuracy: 0.8039 - val_loss: 0.2176 - val_accuracy: 0.9499\n",
            "Epoch 74/1000\n",
            "45/59 [=====================>........] - ETA: 0s - loss: 0.4999 - accuracy: 0.8075\n",
            "Epoch 74: saving model to model/keypoint_classifier/keypoint_classifier.hdf5\n",
            "59/59 [==============================] - 0s 2ms/step - loss: 0.5120 - accuracy: 0.8062 - val_loss: 0.2108 - val_accuracy: 0.9499\n",
            "Epoch 75/1000\n",
            "45/59 [=====================>........] - ETA: 0s - loss: 0.4961 - accuracy: 0.8229\n",
            "Epoch 75: saving model to model/keypoint_classifier/keypoint_classifier.hdf5\n",
            "59/59 [==============================] - 0s 2ms/step - loss: 0.5028 - accuracy: 0.8220 - val_loss: 0.2128 - val_accuracy: 0.9499\n",
            "Epoch 76/1000\n",
            "44/59 [=====================>........] - ETA: 0s - loss: 0.5135 - accuracy: 0.8088\n",
            "Epoch 76: saving model to model/keypoint_classifier/keypoint_classifier.hdf5\n",
            "59/59 [==============================] - 0s 2ms/step - loss: 0.5193 - accuracy: 0.8099 - val_loss: 0.2167 - val_accuracy: 0.9499\n",
            "Epoch 77/1000\n",
            "44/59 [=====================>........] - ETA: 0s - loss: 0.4947 - accuracy: 0.8223\n",
            "Epoch 77: saving model to model/keypoint_classifier/keypoint_classifier.hdf5\n",
            "59/59 [==============================] - 0s 2ms/step - loss: 0.4946 - accuracy: 0.8198 - val_loss: 0.2110 - val_accuracy: 0.9507\n",
            "Epoch 78/1000\n",
            "44/59 [=====================>........] - ETA: 0s - loss: 0.4996 - accuracy: 0.8125\n",
            "Epoch 78: saving model to model/keypoint_classifier/keypoint_classifier.hdf5\n",
            "59/59 [==============================] - 0s 2ms/step - loss: 0.5031 - accuracy: 0.8140 - val_loss: 0.2112 - val_accuracy: 0.9503\n",
            "Epoch 79/1000\n",
            "42/59 [====================>.........] - ETA: 0s - loss: 0.5056 - accuracy: 0.8112\n",
            "Epoch 79: saving model to model/keypoint_classifier/keypoint_classifier.hdf5\n",
            "59/59 [==============================] - 0s 2ms/step - loss: 0.5021 - accuracy: 0.8115 - val_loss: 0.2070 - val_accuracy: 0.9523\n",
            "Epoch 80/1000\n",
            "33/59 [===============>..............] - ETA: 0s - loss: 0.5072 - accuracy: 0.8047\n",
            "Epoch 80: saving model to model/keypoint_classifier/keypoint_classifier.hdf5\n",
            "59/59 [==============================] - 0s 3ms/step - loss: 0.5043 - accuracy: 0.8093 - val_loss: 0.2132 - val_accuracy: 0.9487\n",
            "Epoch 81/1000\n",
            "34/59 [================>.............] - ETA: 0s - loss: 0.4855 - accuracy: 0.8176\n",
            "Epoch 81: saving model to model/keypoint_classifier/keypoint_classifier.hdf5\n",
            "59/59 [==============================] - 0s 3ms/step - loss: 0.4926 - accuracy: 0.8161 - val_loss: 0.2067 - val_accuracy: 0.9515\n",
            "Epoch 82/1000\n",
            "43/59 [====================>.........] - ETA: 0s - loss: 0.5012 - accuracy: 0.8192\n",
            "Epoch 82: saving model to model/keypoint_classifier/keypoint_classifier.hdf5\n",
            "59/59 [==============================] - 0s 3ms/step - loss: 0.4943 - accuracy: 0.8197 - val_loss: 0.2069 - val_accuracy: 0.9527\n",
            "Epoch 83/1000\n",
            "39/59 [==================>...........] - ETA: 0s - loss: 0.5121 - accuracy: 0.8069\n",
            "Epoch 83: saving model to model/keypoint_classifier/keypoint_classifier.hdf5\n",
            "59/59 [==============================] - 0s 4ms/step - loss: 0.5111 - accuracy: 0.8102 - val_loss: 0.2089 - val_accuracy: 0.9507\n",
            "Epoch 84/1000\n",
            "41/59 [===================>..........] - ETA: 0s - loss: 0.5030 - accuracy: 0.8201\n",
            "Epoch 84: saving model to model/keypoint_classifier/keypoint_classifier.hdf5\n",
            "59/59 [==============================] - 0s 2ms/step - loss: 0.5047 - accuracy: 0.8130 - val_loss: 0.2140 - val_accuracy: 0.9495\n",
            "Epoch 85/1000\n",
            "42/59 [====================>.........] - ETA: 0s - loss: 0.4799 - accuracy: 0.8237\n",
            "Epoch 85: saving model to model/keypoint_classifier/keypoint_classifier.hdf5\n",
            "59/59 [==============================] - 0s 2ms/step - loss: 0.4843 - accuracy: 0.8205 - val_loss: 0.2028 - val_accuracy: 0.9523\n",
            "Epoch 86/1000\n",
            "44/59 [=====================>........] - ETA: 0s - loss: 0.5035 - accuracy: 0.8113\n",
            "Epoch 86: saving model to model/keypoint_classifier/keypoint_classifier.hdf5\n",
            "59/59 [==============================] - 0s 2ms/step - loss: 0.4899 - accuracy: 0.8173 - val_loss: 0.2023 - val_accuracy: 0.9519\n",
            "Epoch 87/1000\n",
            "43/59 [====================>.........] - ETA: 0s - loss: 0.4835 - accuracy: 0.8169\n",
            "Epoch 87: saving model to model/keypoint_classifier/keypoint_classifier.hdf5\n",
            "59/59 [==============================] - 0s 2ms/step - loss: 0.4993 - accuracy: 0.8123 - val_loss: 0.2129 - val_accuracy: 0.9519\n",
            "Epoch 88/1000\n",
            "55/59 [==========================>...] - ETA: 0s - loss: 0.4894 - accuracy: 0.8151\n",
            "Epoch 88: saving model to model/keypoint_classifier/keypoint_classifier.hdf5\n",
            "59/59 [==============================] - 0s 4ms/step - loss: 0.4898 - accuracy: 0.8144 - val_loss: 0.2061 - val_accuracy: 0.9515\n",
            "Epoch 89/1000\n",
            "34/59 [================>.............] - ETA: 0s - loss: 0.5084 - accuracy: 0.8169\n",
            "Epoch 89: saving model to model/keypoint_classifier/keypoint_classifier.hdf5\n",
            "59/59 [==============================] - 0s 3ms/step - loss: 0.5027 - accuracy: 0.8162 - val_loss: 0.2069 - val_accuracy: 0.9511\n",
            "Epoch 90/1000\n",
            "43/59 [====================>.........] - ETA: 0s - loss: 0.4900 - accuracy: 0.8181\n",
            "Epoch 90: saving model to model/keypoint_classifier/keypoint_classifier.hdf5\n",
            "59/59 [==============================] - 0s 2ms/step - loss: 0.4899 - accuracy: 0.8182 - val_loss: 0.2036 - val_accuracy: 0.9511\n",
            "Epoch 91/1000\n",
            "40/59 [===================>..........] - ETA: 0s - loss: 0.5032 - accuracy: 0.8197\n",
            "Epoch 91: saving model to model/keypoint_classifier/keypoint_classifier.hdf5\n",
            "59/59 [==============================] - 0s 3ms/step - loss: 0.5033 - accuracy: 0.8188 - val_loss: 0.2038 - val_accuracy: 0.9515\n",
            "Epoch 92/1000\n",
            "56/59 [===========================>..] - ETA: 0s - loss: 0.4894 - accuracy: 0.8128\n",
            "Epoch 92: saving model to model/keypoint_classifier/keypoint_classifier.hdf5\n",
            "59/59 [==============================] - 0s 3ms/step - loss: 0.4927 - accuracy: 0.8122 - val_loss: 0.2051 - val_accuracy: 0.9543\n",
            "Epoch 93/1000\n",
            "33/59 [===============>..............] - ETA: 0s - loss: 0.4801 - accuracy: 0.8146\n",
            "Epoch 93: saving model to model/keypoint_classifier/keypoint_classifier.hdf5\n",
            "59/59 [==============================] - 0s 3ms/step - loss: 0.4833 - accuracy: 0.8148 - val_loss: 0.2045 - val_accuracy: 0.9535\n",
            "Epoch 94/1000\n",
            "58/59 [============================>.] - ETA: 0s - loss: 0.4779 - accuracy: 0.8235\n",
            "Epoch 94: saving model to model/keypoint_classifier/keypoint_classifier.hdf5\n",
            "59/59 [==============================] - 0s 4ms/step - loss: 0.4776 - accuracy: 0.8237 - val_loss: 0.2020 - val_accuracy: 0.9531\n",
            "Epoch 95/1000\n",
            "57/59 [===========================>..] - ETA: 0s - loss: 0.4933 - accuracy: 0.8104\n",
            "Epoch 95: saving model to model/keypoint_classifier/keypoint_classifier.hdf5\n",
            "59/59 [==============================] - 0s 3ms/step - loss: 0.4933 - accuracy: 0.8111 - val_loss: 0.2022 - val_accuracy: 0.9507\n",
            "Epoch 96/1000\n",
            "55/59 [==========================>...] - ETA: 0s - loss: 0.4869 - accuracy: 0.8163\n",
            "Epoch 96: saving model to model/keypoint_classifier/keypoint_classifier.hdf5\n",
            "59/59 [==============================] - 0s 4ms/step - loss: 0.4833 - accuracy: 0.8186 - val_loss: 0.2076 - val_accuracy: 0.9507\n",
            "Epoch 97/1000\n",
            "42/59 [====================>.........] - ETA: 0s - loss: 0.5027 - accuracy: 0.8114\n",
            "Epoch 97: saving model to model/keypoint_classifier/keypoint_classifier.hdf5\n",
            "59/59 [==============================] - 0s 3ms/step - loss: 0.4877 - accuracy: 0.8181 - val_loss: 0.2015 - val_accuracy: 0.9523\n",
            "Epoch 98/1000\n",
            "26/59 [============>.................] - ETA: 0s - loss: 0.4658 - accuracy: 0.8182\n",
            "Epoch 98: saving model to model/keypoint_classifier/keypoint_classifier.hdf5\n",
            "59/59 [==============================] - 0s 3ms/step - loss: 0.4840 - accuracy: 0.8140 - val_loss: 0.2014 - val_accuracy: 0.9603\n",
            "Epoch 99/1000\n",
            "59/59 [==============================] - ETA: 0s - loss: 0.4799 - accuracy: 0.8248\n",
            "Epoch 99: saving model to model/keypoint_classifier/keypoint_classifier.hdf5\n",
            "59/59 [==============================] - 0s 3ms/step - loss: 0.4799 - accuracy: 0.8248 - val_loss: 0.2022 - val_accuracy: 0.9523\n",
            "Epoch 100/1000\n",
            "43/59 [====================>.........] - ETA: 0s - loss: 0.4959 - accuracy: 0.8185\n",
            "Epoch 100: saving model to model/keypoint_classifier/keypoint_classifier.hdf5\n",
            "59/59 [==============================] - 0s 5ms/step - loss: 0.4920 - accuracy: 0.8213 - val_loss: 0.2018 - val_accuracy: 0.9531\n",
            "Epoch 101/1000\n",
            "32/59 [===============>..............] - ETA: 0s - loss: 0.4883 - accuracy: 0.8225\n",
            "Epoch 101: saving model to model/keypoint_classifier/keypoint_classifier.hdf5\n",
            "59/59 [==============================] - 0s 3ms/step - loss: 0.4818 - accuracy: 0.8212 - val_loss: 0.1979 - val_accuracy: 0.9543\n",
            "Epoch 102/1000\n",
            "33/59 [===============>..............] - ETA: 0s - loss: 0.4967 - accuracy: 0.8149\n",
            "Epoch 102: saving model to model/keypoint_classifier/keypoint_classifier.hdf5\n",
            "59/59 [==============================] - 0s 3ms/step - loss: 0.4963 - accuracy: 0.8114 - val_loss: 0.1989 - val_accuracy: 0.9551\n",
            "Epoch 103/1000\n",
            "29/59 [=============>................] - ETA: 0s - loss: 0.4948 - accuracy: 0.8163\n",
            "Epoch 103: saving model to model/keypoint_classifier/keypoint_classifier.hdf5\n",
            "59/59 [==============================] - 0s 3ms/step - loss: 0.4804 - accuracy: 0.8220 - val_loss: 0.1989 - val_accuracy: 0.9547\n",
            "Epoch 104/1000\n",
            "32/59 [===============>..............] - ETA: 0s - loss: 0.4716 - accuracy: 0.8218\n",
            "Epoch 104: saving model to model/keypoint_classifier/keypoint_classifier.hdf5\n",
            "59/59 [==============================] - 0s 3ms/step - loss: 0.4779 - accuracy: 0.8206 - val_loss: 0.1982 - val_accuracy: 0.9531\n",
            "Epoch 105/1000\n",
            "49/59 [=======================>......] - ETA: 0s - loss: 0.4894 - accuracy: 0.8202\n",
            "Epoch 105: saving model to model/keypoint_classifier/keypoint_classifier.hdf5\n",
            "59/59 [==============================] - 0s 3ms/step - loss: 0.4871 - accuracy: 0.8217 - val_loss: 0.1986 - val_accuracy: 0.9539\n",
            "Epoch 106/1000\n",
            "28/59 [=============>................] - ETA: 0s - loss: 0.4856 - accuracy: 0.8192\n",
            "Epoch 106: saving model to model/keypoint_classifier/keypoint_classifier.hdf5\n",
            "59/59 [==============================] - 0s 3ms/step - loss: 0.4848 - accuracy: 0.8208 - val_loss: 0.2070 - val_accuracy: 0.9503\n",
            "Epoch 107/1000\n",
            "54/59 [==========================>...] - ETA: 0s - loss: 0.4844 - accuracy: 0.8171\n",
            "Epoch 107: saving model to model/keypoint_classifier/keypoint_classifier.hdf5\n",
            "59/59 [==============================] - 0s 3ms/step - loss: 0.4856 - accuracy: 0.8177 - val_loss: 0.2004 - val_accuracy: 0.9547\n",
            "Epoch 108/1000\n",
            "55/59 [==========================>...] - ETA: 0s - loss: 0.4716 - accuracy: 0.8247\n",
            "Epoch 108: saving model to model/keypoint_classifier/keypoint_classifier.hdf5\n",
            "59/59 [==============================] - 0s 3ms/step - loss: 0.4713 - accuracy: 0.8246 - val_loss: 0.2022 - val_accuracy: 0.9551\n",
            "Epoch 109/1000\n",
            "32/59 [===============>..............] - ETA: 0s - loss: 0.4841 - accuracy: 0.8196\n",
            "Epoch 109: saving model to model/keypoint_classifier/keypoint_classifier.hdf5\n",
            "59/59 [==============================] - 0s 3ms/step - loss: 0.4729 - accuracy: 0.8232 - val_loss: 0.1996 - val_accuracy: 0.9535\n",
            "Epoch 110/1000\n",
            "31/59 [==============>...............] - ETA: 0s - loss: 0.4942 - accuracy: 0.8223\n",
            "Epoch 110: saving model to model/keypoint_classifier/keypoint_classifier.hdf5\n",
            "59/59 [==============================] - 0s 3ms/step - loss: 0.4893 - accuracy: 0.8178 - val_loss: 0.2016 - val_accuracy: 0.9515\n",
            "Epoch 111/1000\n",
            "32/59 [===============>..............] - ETA: 0s - loss: 0.4764 - accuracy: 0.8264\n",
            "Epoch 111: saving model to model/keypoint_classifier/keypoint_classifier.hdf5\n",
            "59/59 [==============================] - 0s 3ms/step - loss: 0.4713 - accuracy: 0.8300 - val_loss: 0.1957 - val_accuracy: 0.9507\n",
            "Epoch 112/1000\n",
            "32/59 [===============>..............] - ETA: 0s - loss: 0.4863 - accuracy: 0.8130\n",
            "Epoch 112: saving model to model/keypoint_classifier/keypoint_classifier.hdf5\n",
            "59/59 [==============================] - 0s 3ms/step - loss: 0.4772 - accuracy: 0.8210 - val_loss: 0.1964 - val_accuracy: 0.9531\n",
            "Epoch 113/1000\n",
            "30/59 [==============>...............] - ETA: 0s - loss: 0.4771 - accuracy: 0.8284\n",
            "Epoch 113: saving model to model/keypoint_classifier/keypoint_classifier.hdf5\n",
            "59/59 [==============================] - 0s 3ms/step - loss: 0.4782 - accuracy: 0.8232 - val_loss: 0.1984 - val_accuracy: 0.9511\n",
            "Epoch 114/1000\n",
            "32/59 [===============>..............] - ETA: 0s - loss: 0.4607 - accuracy: 0.8242\n",
            "Epoch 114: saving model to model/keypoint_classifier/keypoint_classifier.hdf5\n",
            "59/59 [==============================] - 0s 3ms/step - loss: 0.4626 - accuracy: 0.8257 - val_loss: 0.1907 - val_accuracy: 0.9587\n",
            "Epoch 115/1000\n",
            "25/59 [===========>..................] - ETA: 0s - loss: 0.4621 - accuracy: 0.8294\n",
            "Epoch 115: saving model to model/keypoint_classifier/keypoint_classifier.hdf5\n",
            "59/59 [==============================] - 0s 3ms/step - loss: 0.4643 - accuracy: 0.8271 - val_loss: 0.1906 - val_accuracy: 0.9535\n",
            "Epoch 116/1000\n",
            "29/59 [=============>................] - ETA: 0s - loss: 0.4754 - accuracy: 0.8163\n",
            "Epoch 116: saving model to model/keypoint_classifier/keypoint_classifier.hdf5\n",
            "59/59 [==============================] - 0s 3ms/step - loss: 0.4731 - accuracy: 0.8193 - val_loss: 0.1952 - val_accuracy: 0.9551\n",
            "Epoch 117/1000\n",
            "32/59 [===============>..............] - ETA: 0s - loss: 0.4637 - accuracy: 0.8333\n",
            "Epoch 117: saving model to model/keypoint_classifier/keypoint_classifier.hdf5\n",
            "59/59 [==============================] - 0s 3ms/step - loss: 0.4749 - accuracy: 0.8233 - val_loss: 0.1964 - val_accuracy: 0.9551\n",
            "Epoch 118/1000\n",
            "56/59 [===========================>..] - ETA: 0s - loss: 0.4717 - accuracy: 0.8235\n",
            "Epoch 118: saving model to model/keypoint_classifier/keypoint_classifier.hdf5\n",
            "59/59 [==============================] - 0s 3ms/step - loss: 0.4702 - accuracy: 0.8230 - val_loss: 0.1940 - val_accuracy: 0.9547\n",
            "Epoch 119/1000\n",
            "40/59 [===================>..........] - ETA: 0s - loss: 0.4519 - accuracy: 0.8281\n",
            "Epoch 119: saving model to model/keypoint_classifier/keypoint_classifier.hdf5\n",
            "59/59 [==============================] - 0s 2ms/step - loss: 0.4611 - accuracy: 0.8252 - val_loss: 0.1923 - val_accuracy: 0.9587\n",
            "Epoch 120/1000\n",
            "44/59 [=====================>........] - ETA: 0s - loss: 0.4845 - accuracy: 0.8203\n",
            "Epoch 120: saving model to model/keypoint_classifier/keypoint_classifier.hdf5\n",
            "59/59 [==============================] - 0s 2ms/step - loss: 0.4751 - accuracy: 0.8226 - val_loss: 0.1896 - val_accuracy: 0.9567\n",
            "Epoch 121/1000\n",
            "42/59 [====================>.........] - ETA: 0s - loss: 0.4768 - accuracy: 0.8253\n",
            "Epoch 121: saving model to model/keypoint_classifier/keypoint_classifier.hdf5\n",
            "59/59 [==============================] - 0s 2ms/step - loss: 0.4743 - accuracy: 0.8260 - val_loss: 0.1887 - val_accuracy: 0.9559\n",
            "Epoch 122/1000\n",
            "42/59 [====================>.........] - ETA: 0s - loss: 0.4940 - accuracy: 0.8168\n",
            "Epoch 122: saving model to model/keypoint_classifier/keypoint_classifier.hdf5\n",
            "59/59 [==============================] - 0s 2ms/step - loss: 0.4952 - accuracy: 0.8157 - val_loss: 0.1991 - val_accuracy: 0.9555\n",
            "Epoch 123/1000\n",
            "41/59 [===================>..........] - ETA: 0s - loss: 0.4762 - accuracy: 0.8203\n",
            "Epoch 123: saving model to model/keypoint_classifier/keypoint_classifier.hdf5\n",
            "59/59 [==============================] - 0s 3ms/step - loss: 0.4815 - accuracy: 0.8192 - val_loss: 0.1954 - val_accuracy: 0.9555\n",
            "Epoch 124/1000\n",
            "38/59 [==================>...........] - ETA: 0s - loss: 0.4821 - accuracy: 0.8211\n",
            "Epoch 124: saving model to model/keypoint_classifier/keypoint_classifier.hdf5\n",
            "59/59 [==============================] - 0s 2ms/step - loss: 0.4844 - accuracy: 0.8208 - val_loss: 0.2007 - val_accuracy: 0.9543\n",
            "Epoch 125/1000\n",
            "33/59 [===============>..............] - ETA: 0s - loss: 0.4497 - accuracy: 0.8307\n",
            "Epoch 125: saving model to model/keypoint_classifier/keypoint_classifier.hdf5\n",
            "59/59 [==============================] - 0s 4ms/step - loss: 0.4620 - accuracy: 0.8234 - val_loss: 0.1955 - val_accuracy: 0.9567\n",
            "Epoch 126/1000\n",
            "43/59 [====================>.........] - ETA: 0s - loss: 0.4795 - accuracy: 0.8227\n",
            "Epoch 126: saving model to model/keypoint_classifier/keypoint_classifier.hdf5\n",
            "59/59 [==============================] - 0s 2ms/step - loss: 0.4759 - accuracy: 0.8236 - val_loss: 0.1924 - val_accuracy: 0.9579\n",
            "Epoch 127/1000\n",
            "42/59 [====================>.........] - ETA: 0s - loss: 0.5007 - accuracy: 0.8136\n",
            "Epoch 127: saving model to model/keypoint_classifier/keypoint_classifier.hdf5\n",
            "59/59 [==============================] - 0s 2ms/step - loss: 0.4951 - accuracy: 0.8160 - val_loss: 0.1970 - val_accuracy: 0.9559\n",
            "Epoch 128/1000\n",
            "43/59 [====================>.........] - ETA: 0s - loss: 0.4477 - accuracy: 0.8299\n",
            "Epoch 128: saving model to model/keypoint_classifier/keypoint_classifier.hdf5\n",
            "59/59 [==============================] - 0s 2ms/step - loss: 0.4544 - accuracy: 0.8304 - val_loss: 0.1913 - val_accuracy: 0.9567\n",
            "Epoch 129/1000\n",
            "43/59 [====================>.........] - ETA: 0s - loss: 0.4855 - accuracy: 0.8194\n",
            "Epoch 129: saving model to model/keypoint_classifier/keypoint_classifier.hdf5\n",
            "59/59 [==============================] - 0s 2ms/step - loss: 0.4899 - accuracy: 0.8173 - val_loss: 0.1946 - val_accuracy: 0.9607\n",
            "Epoch 130/1000\n",
            "43/59 [====================>.........] - ETA: 0s - loss: 0.4632 - accuracy: 0.8234\n",
            "Epoch 130: saving model to model/keypoint_classifier/keypoint_classifier.hdf5\n",
            "59/59 [==============================] - 0s 2ms/step - loss: 0.4755 - accuracy: 0.8209 - val_loss: 0.1928 - val_accuracy: 0.9587\n",
            "Epoch 131/1000\n",
            "39/59 [==================>...........] - ETA: 0s - loss: 0.4717 - accuracy: 0.8251\n",
            "Epoch 131: saving model to model/keypoint_classifier/keypoint_classifier.hdf5\n",
            "59/59 [==============================] - 0s 2ms/step - loss: 0.4708 - accuracy: 0.8288 - val_loss: 0.1944 - val_accuracy: 0.9587\n",
            "Epoch 132/1000\n",
            "40/59 [===================>..........] - ETA: 0s - loss: 0.4654 - accuracy: 0.8258\n",
            "Epoch 132: saving model to model/keypoint_classifier/keypoint_classifier.hdf5\n",
            "59/59 [==============================] - 0s 2ms/step - loss: 0.4718 - accuracy: 0.8254 - val_loss: 0.1926 - val_accuracy: 0.9583\n",
            "Epoch 133/1000\n",
            "36/59 [=================>............] - ETA: 0s - loss: 0.4541 - accuracy: 0.8346\n",
            "Epoch 133: saving model to model/keypoint_classifier/keypoint_classifier.hdf5\n",
            "59/59 [==============================] - 0s 3ms/step - loss: 0.4766 - accuracy: 0.8261 - val_loss: 0.1950 - val_accuracy: 0.9563\n",
            "Epoch 134/1000\n",
            "36/59 [=================>............] - ETA: 0s - loss: 0.4594 - accuracy: 0.8307\n",
            "Epoch 134: saving model to model/keypoint_classifier/keypoint_classifier.hdf5\n",
            "59/59 [==============================] - 0s 2ms/step - loss: 0.4630 - accuracy: 0.8276 - val_loss: 0.1883 - val_accuracy: 0.9587\n",
            "Epoch 135/1000\n",
            "44/59 [=====================>........] - ETA: 0s - loss: 0.4605 - accuracy: 0.8263\n",
            "Epoch 135: saving model to model/keypoint_classifier/keypoint_classifier.hdf5\n",
            "59/59 [==============================] - 0s 3ms/step - loss: 0.4579 - accuracy: 0.8283 - val_loss: 0.1962 - val_accuracy: 0.9579\n",
            "Epoch 136/1000\n",
            "39/59 [==================>...........] - ETA: 0s - loss: 0.4784 - accuracy: 0.8165\n",
            "Epoch 136: saving model to model/keypoint_classifier/keypoint_classifier.hdf5\n",
            "59/59 [==============================] - 0s 2ms/step - loss: 0.4745 - accuracy: 0.8213 - val_loss: 0.1908 - val_accuracy: 0.9551\n",
            "Epoch 137/1000\n",
            "41/59 [===================>..........] - ETA: 0s - loss: 0.4715 - accuracy: 0.8281\n",
            "Epoch 137: saving model to model/keypoint_classifier/keypoint_classifier.hdf5\n",
            "59/59 [==============================] - 0s 2ms/step - loss: 0.4614 - accuracy: 0.8285 - val_loss: 0.1906 - val_accuracy: 0.9547\n",
            "Epoch 138/1000\n",
            "43/59 [====================>.........] - ETA: 0s - loss: 0.4579 - accuracy: 0.8292\n",
            "Epoch 138: saving model to model/keypoint_classifier/keypoint_classifier.hdf5\n",
            "59/59 [==============================] - 0s 2ms/step - loss: 0.4608 - accuracy: 0.8288 - val_loss: 0.1857 - val_accuracy: 0.9555\n",
            "Epoch 139/1000\n",
            "38/59 [==================>...........] - ETA: 0s - loss: 0.4555 - accuracy: 0.8265\n",
            "Epoch 139: saving model to model/keypoint_classifier/keypoint_classifier.hdf5\n",
            "59/59 [==============================] - 0s 3ms/step - loss: 0.4670 - accuracy: 0.8277 - val_loss: 0.1883 - val_accuracy: 0.9563\n",
            "Epoch 140/1000\n",
            "58/59 [============================>.] - ETA: 0s - loss: 0.4728 - accuracy: 0.8269\n",
            "Epoch 140: saving model to model/keypoint_classifier/keypoint_classifier.hdf5\n",
            "59/59 [==============================] - 0s 3ms/step - loss: 0.4716 - accuracy: 0.8273 - val_loss: 0.1912 - val_accuracy: 0.9575\n",
            "Epoch 141/1000\n",
            "38/59 [==================>...........] - ETA: 0s - loss: 0.4719 - accuracy: 0.8236\n",
            "Epoch 141: saving model to model/keypoint_classifier/keypoint_classifier.hdf5\n",
            "59/59 [==============================] - 0s 3ms/step - loss: 0.4653 - accuracy: 0.8284 - val_loss: 0.1837 - val_accuracy: 0.9591\n",
            "Epoch 142/1000\n",
            "47/59 [======================>.......] - ETA: 0s - loss: 0.4550 - accuracy: 0.8334\n",
            "Epoch 142: saving model to model/keypoint_classifier/keypoint_classifier.hdf5\n",
            "59/59 [==============================] - 0s 4ms/step - loss: 0.4579 - accuracy: 0.8300 - val_loss: 0.1843 - val_accuracy: 0.9579\n",
            "Epoch 143/1000\n",
            "37/59 [=================>............] - ETA: 0s - loss: 0.4671 - accuracy: 0.8279\n",
            "Epoch 143: saving model to model/keypoint_classifier/keypoint_classifier.hdf5\n",
            "59/59 [==============================] - 0s 3ms/step - loss: 0.4669 - accuracy: 0.8280 - val_loss: 0.1888 - val_accuracy: 0.9579\n",
            "Epoch 144/1000\n",
            "32/59 [===============>..............] - ETA: 0s - loss: 0.4688 - accuracy: 0.8315\n",
            "Epoch 144: saving model to model/keypoint_classifier/keypoint_classifier.hdf5\n",
            "59/59 [==============================] - 0s 3ms/step - loss: 0.4630 - accuracy: 0.8332 - val_loss: 0.1897 - val_accuracy: 0.9591\n",
            "Epoch 145/1000\n",
            "35/59 [================>.............] - ETA: 0s - loss: 0.4586 - accuracy: 0.8310\n",
            "Epoch 145: saving model to model/keypoint_classifier/keypoint_classifier.hdf5\n",
            "59/59 [==============================] - 0s 2ms/step - loss: 0.4658 - accuracy: 0.8297 - val_loss: 0.1929 - val_accuracy: 0.9563\n",
            "Epoch 146/1000\n",
            "38/59 [==================>...........] - ETA: 0s - loss: 0.4707 - accuracy: 0.8232\n",
            "Epoch 146: saving model to model/keypoint_classifier/keypoint_classifier.hdf5\n",
            "59/59 [==============================] - 0s 2ms/step - loss: 0.4677 - accuracy: 0.8246 - val_loss: 0.1945 - val_accuracy: 0.9587\n",
            "Epoch 147/1000\n",
            "34/59 [================>.............] - ETA: 0s - loss: 0.4605 - accuracy: 0.8313\n",
            "Epoch 147: saving model to model/keypoint_classifier/keypoint_classifier.hdf5\n",
            "59/59 [==============================] - 0s 3ms/step - loss: 0.4588 - accuracy: 0.8293 - val_loss: 0.1892 - val_accuracy: 0.9563\n",
            "Epoch 148/1000\n",
            "39/59 [==================>...........] - ETA: 0s - loss: 0.4667 - accuracy: 0.8233\n",
            "Epoch 148: saving model to model/keypoint_classifier/keypoint_classifier.hdf5\n",
            "59/59 [==============================] - 0s 3ms/step - loss: 0.4606 - accuracy: 0.8260 - val_loss: 0.1860 - val_accuracy: 0.9579\n",
            "Epoch 149/1000\n",
            "55/59 [==========================>...] - ETA: 0s - loss: 0.4489 - accuracy: 0.8320\n",
            "Epoch 149: saving model to model/keypoint_classifier/keypoint_classifier.hdf5\n",
            "59/59 [==============================] - 0s 3ms/step - loss: 0.4494 - accuracy: 0.8327 - val_loss: 0.1843 - val_accuracy: 0.9583\n",
            "Epoch 150/1000\n",
            "37/59 [=================>............] - ETA: 0s - loss: 0.4714 - accuracy: 0.8256\n",
            "Epoch 150: saving model to model/keypoint_classifier/keypoint_classifier.hdf5\n",
            "59/59 [==============================] - 0s 2ms/step - loss: 0.4648 - accuracy: 0.8275 - val_loss: 0.1912 - val_accuracy: 0.9599\n",
            "Epoch 151/1000\n",
            "37/59 [=================>............] - ETA: 0s - loss: 0.4516 - accuracy: 0.8269\n",
            "Epoch 151: saving model to model/keypoint_classifier/keypoint_classifier.hdf5\n",
            "59/59 [==============================] - 0s 2ms/step - loss: 0.4560 - accuracy: 0.8287 - val_loss: 0.1863 - val_accuracy: 0.9607\n",
            "Epoch 152/1000\n",
            "37/59 [=================>............] - ETA: 0s - loss: 0.4530 - accuracy: 0.8298\n",
            "Epoch 152: saving model to model/keypoint_classifier/keypoint_classifier.hdf5\n",
            "59/59 [==============================] - 0s 2ms/step - loss: 0.4527 - accuracy: 0.8320 - val_loss: 0.1854 - val_accuracy: 0.9571\n",
            "Epoch 153/1000\n",
            "33/59 [===============>..............] - ETA: 0s - loss: 0.4531 - accuracy: 0.8317\n",
            "Epoch 153: saving model to model/keypoint_classifier/keypoint_classifier.hdf5\n",
            "59/59 [==============================] - 0s 3ms/step - loss: 0.4549 - accuracy: 0.8317 - val_loss: 0.1850 - val_accuracy: 0.9595\n",
            "Epoch 154/1000\n",
            "36/59 [=================>............] - ETA: 0s - loss: 0.4534 - accuracy: 0.8405\n",
            "Epoch 154: saving model to model/keypoint_classifier/keypoint_classifier.hdf5\n",
            "59/59 [==============================] - 0s 2ms/step - loss: 0.4541 - accuracy: 0.8377 - val_loss: 0.1877 - val_accuracy: 0.9587\n",
            "Epoch 155/1000\n",
            "38/59 [==================>...........] - ETA: 0s - loss: 0.4620 - accuracy: 0.8326\n",
            "Epoch 155: saving model to model/keypoint_classifier/keypoint_classifier.hdf5\n",
            "59/59 [==============================] - 0s 2ms/step - loss: 0.4584 - accuracy: 0.8324 - val_loss: 0.1888 - val_accuracy: 0.9583\n",
            "Epoch 156/1000\n",
            "39/59 [==================>...........] - ETA: 0s - loss: 0.4673 - accuracy: 0.8305\n",
            "Epoch 156: saving model to model/keypoint_classifier/keypoint_classifier.hdf5\n",
            "59/59 [==============================] - 0s 2ms/step - loss: 0.4689 - accuracy: 0.8281 - val_loss: 0.1889 - val_accuracy: 0.9611\n",
            "Epoch 157/1000\n",
            "32/59 [===============>..............] - ETA: 0s - loss: 0.4327 - accuracy: 0.8401\n",
            "Epoch 157: saving model to model/keypoint_classifier/keypoint_classifier.hdf5\n",
            "59/59 [==============================] - 0s 3ms/step - loss: 0.4505 - accuracy: 0.8356 - val_loss: 0.1822 - val_accuracy: 0.9563\n",
            "Epoch 158/1000\n",
            "25/59 [===========>..................] - ETA: 0s - loss: 0.4582 - accuracy: 0.8306\n",
            "Epoch 158: saving model to model/keypoint_classifier/keypoint_classifier.hdf5\n",
            "59/59 [==============================] - 0s 3ms/step - loss: 0.4520 - accuracy: 0.8336 - val_loss: 0.1830 - val_accuracy: 0.9587\n",
            "Epoch 159/1000\n",
            "54/59 [==========================>...] - ETA: 0s - loss: 0.4609 - accuracy: 0.8274\n",
            "Epoch 159: saving model to model/keypoint_classifier/keypoint_classifier.hdf5\n",
            "59/59 [==============================] - 0s 3ms/step - loss: 0.4592 - accuracy: 0.8267 - val_loss: 0.1844 - val_accuracy: 0.9575\n",
            "Epoch 160/1000\n",
            "30/59 [==============>...............] - ETA: 0s - loss: 0.4459 - accuracy: 0.8292\n",
            "Epoch 160: saving model to model/keypoint_classifier/keypoint_classifier.hdf5\n",
            "59/59 [==============================] - 0s 3ms/step - loss: 0.4583 - accuracy: 0.8299 - val_loss: 0.1877 - val_accuracy: 0.9575\n",
            "Epoch 161/1000\n",
            "31/59 [==============>...............] - ETA: 0s - loss: 0.4378 - accuracy: 0.8339\n",
            "Epoch 161: saving model to model/keypoint_classifier/keypoint_classifier.hdf5\n",
            "59/59 [==============================] - 0s 3ms/step - loss: 0.4520 - accuracy: 0.8320 - val_loss: 0.1800 - val_accuracy: 0.9583\n",
            "Epoch 162/1000\n",
            "39/59 [==================>...........] - ETA: 0s - loss: 0.4698 - accuracy: 0.8227\n",
            "Epoch 162: saving model to model/keypoint_classifier/keypoint_classifier.hdf5\n",
            "59/59 [==============================] - 0s 2ms/step - loss: 0.4615 - accuracy: 0.8250 - val_loss: 0.1880 - val_accuracy: 0.9587\n",
            "Epoch 163/1000\n",
            "42/59 [====================>.........] - ETA: 0s - loss: 0.4564 - accuracy: 0.8304\n",
            "Epoch 163: saving model to model/keypoint_classifier/keypoint_classifier.hdf5\n",
            "59/59 [==============================] - 0s 2ms/step - loss: 0.4505 - accuracy: 0.8324 - val_loss: 0.1833 - val_accuracy: 0.9587\n",
            "Epoch 164/1000\n",
            "27/59 [============>.................] - ETA: 0s - loss: 0.4492 - accuracy: 0.8330\n",
            "Epoch 164: saving model to model/keypoint_classifier/keypoint_classifier.hdf5\n",
            "59/59 [==============================] - 0s 3ms/step - loss: 0.4556 - accuracy: 0.8315 - val_loss: 0.1839 - val_accuracy: 0.9575\n",
            "Epoch 165/1000\n",
            "39/59 [==================>...........] - ETA: 0s - loss: 0.4590 - accuracy: 0.8305\n",
            "Epoch 165: saving model to model/keypoint_classifier/keypoint_classifier.hdf5\n",
            "59/59 [==============================] - 0s 3ms/step - loss: 0.4616 - accuracy: 0.8305 - val_loss: 0.1778 - val_accuracy: 0.9587\n",
            "Epoch 166/1000\n",
            "41/59 [===================>..........] - ETA: 0s - loss: 0.4428 - accuracy: 0.8319\n",
            "Epoch 166: saving model to model/keypoint_classifier/keypoint_classifier.hdf5\n",
            "59/59 [==============================] - 0s 2ms/step - loss: 0.4512 - accuracy: 0.8329 - val_loss: 0.1779 - val_accuracy: 0.9591\n",
            "Epoch 167/1000\n",
            "42/59 [====================>.........] - ETA: 0s - loss: 0.4613 - accuracy: 0.8255\n",
            "Epoch 167: saving model to model/keypoint_classifier/keypoint_classifier.hdf5\n",
            "59/59 [==============================] - 0s 2ms/step - loss: 0.4593 - accuracy: 0.8265 - val_loss: 0.1819 - val_accuracy: 0.9583\n",
            "Epoch 168/1000\n",
            "42/59 [====================>.........] - ETA: 0s - loss: 0.4490 - accuracy: 0.8369\n",
            "Epoch 168: saving model to model/keypoint_classifier/keypoint_classifier.hdf5\n",
            "59/59 [==============================] - 0s 2ms/step - loss: 0.4554 - accuracy: 0.8355 - val_loss: 0.1825 - val_accuracy: 0.9603\n",
            "Epoch 169/1000\n",
            "42/59 [====================>.........] - ETA: 0s - loss: 0.4556 - accuracy: 0.8268\n",
            "Epoch 169: saving model to model/keypoint_classifier/keypoint_classifier.hdf5\n",
            "59/59 [==============================] - 0s 2ms/step - loss: 0.4518 - accuracy: 0.8293 - val_loss: 0.1856 - val_accuracy: 0.9599\n",
            "Epoch 170/1000\n",
            "43/59 [====================>.........] - ETA: 0s - loss: 0.4517 - accuracy: 0.8347\n",
            "Epoch 170: saving model to model/keypoint_classifier/keypoint_classifier.hdf5\n",
            "59/59 [==============================] - 0s 2ms/step - loss: 0.4523 - accuracy: 0.8337 - val_loss: 0.1882 - val_accuracy: 0.9571\n",
            "Epoch 171/1000\n",
            "53/59 [=========================>....] - ETA: 0s - loss: 0.4481 - accuracy: 0.8303\n",
            "Epoch 171: saving model to model/keypoint_classifier/keypoint_classifier.hdf5\n",
            "59/59 [==============================] - 0s 3ms/step - loss: 0.4474 - accuracy: 0.8316 - val_loss: 0.1791 - val_accuracy: 0.9599\n",
            "Epoch 172/1000\n",
            "31/59 [==============>...............] - ETA: 0s - loss: 0.4471 - accuracy: 0.8332\n",
            "Epoch 172: saving model to model/keypoint_classifier/keypoint_classifier.hdf5\n",
            "59/59 [==============================] - 0s 2ms/step - loss: 0.4464 - accuracy: 0.8343 - val_loss: 0.1836 - val_accuracy: 0.9579\n",
            "Epoch 173/1000\n",
            "43/59 [====================>.........] - ETA: 0s - loss: 0.4504 - accuracy: 0.8309\n",
            "Epoch 173: saving model to model/keypoint_classifier/keypoint_classifier.hdf5\n",
            "59/59 [==============================] - 0s 3ms/step - loss: 0.4475 - accuracy: 0.8324 - val_loss: 0.1760 - val_accuracy: 0.9603\n",
            "Epoch 174/1000\n",
            "37/59 [=================>............] - ETA: 0s - loss: 0.4610 - accuracy: 0.8311\n",
            "Epoch 174: saving model to model/keypoint_classifier/keypoint_classifier.hdf5\n",
            "59/59 [==============================] - 0s 3ms/step - loss: 0.4583 - accuracy: 0.8288 - val_loss: 0.1841 - val_accuracy: 0.9591\n",
            "Epoch 175/1000\n",
            "41/59 [===================>..........] - ETA: 0s - loss: 0.4406 - accuracy: 0.8354\n",
            "Epoch 175: saving model to model/keypoint_classifier/keypoint_classifier.hdf5\n",
            "59/59 [==============================] - 0s 2ms/step - loss: 0.4460 - accuracy: 0.8347 - val_loss: 0.1817 - val_accuracy: 0.9583\n",
            "Epoch 176/1000\n",
            "42/59 [====================>.........] - ETA: 0s - loss: 0.4527 - accuracy: 0.8376\n",
            "Epoch 176: saving model to model/keypoint_classifier/keypoint_classifier.hdf5\n",
            "59/59 [==============================] - 0s 3ms/step - loss: 0.4554 - accuracy: 0.8369 - val_loss: 0.1822 - val_accuracy: 0.9591\n",
            "Epoch 177/1000\n",
            "38/59 [==================>...........] - ETA: 0s - loss: 0.4403 - accuracy: 0.8413\n",
            "Epoch 177: saving model to model/keypoint_classifier/keypoint_classifier.hdf5\n",
            "59/59 [==============================] - 0s 2ms/step - loss: 0.4446 - accuracy: 0.8384 - val_loss: 0.1814 - val_accuracy: 0.9591\n",
            "Epoch 178/1000\n",
            "35/59 [================>.............] - ETA: 0s - loss: 0.4476 - accuracy: 0.8313\n",
            "Epoch 178: saving model to model/keypoint_classifier/keypoint_classifier.hdf5\n",
            "59/59 [==============================] - 0s 3ms/step - loss: 0.4511 - accuracy: 0.8335 - val_loss: 0.1923 - val_accuracy: 0.9579\n",
            "Epoch 179/1000\n",
            "42/59 [====================>.........] - ETA: 0s - loss: 0.4556 - accuracy: 0.8309\n",
            "Epoch 179: saving model to model/keypoint_classifier/keypoint_classifier.hdf5\n",
            "59/59 [==============================] - 0s 2ms/step - loss: 0.4451 - accuracy: 0.8352 - val_loss: 0.1791 - val_accuracy: 0.9579\n",
            "Epoch 180/1000\n",
            "42/59 [====================>.........] - ETA: 0s - loss: 0.4618 - accuracy: 0.8292\n",
            "Epoch 180: saving model to model/keypoint_classifier/keypoint_classifier.hdf5\n",
            "59/59 [==============================] - 0s 2ms/step - loss: 0.4564 - accuracy: 0.8324 - val_loss: 0.1799 - val_accuracy: 0.9607\n",
            "Epoch 181/1000\n",
            "42/59 [====================>.........] - ETA: 0s - loss: 0.4507 - accuracy: 0.8324\n",
            "Epoch 181: saving model to model/keypoint_classifier/keypoint_classifier.hdf5\n",
            "59/59 [==============================] - 0s 2ms/step - loss: 0.4472 - accuracy: 0.8347 - val_loss: 0.1835 - val_accuracy: 0.9607\n",
            "Epoch 182/1000\n",
            "43/59 [====================>.........] - ETA: 0s - loss: 0.4413 - accuracy: 0.8387\n",
            "Epoch 182: saving model to model/keypoint_classifier/keypoint_classifier.hdf5\n",
            "59/59 [==============================] - 0s 3ms/step - loss: 0.4446 - accuracy: 0.8349 - val_loss: 0.1820 - val_accuracy: 0.9595\n",
            "Epoch 183/1000\n",
            "32/59 [===============>..............] - ETA: 0s - loss: 0.4350 - accuracy: 0.8374\n",
            "Epoch 183: saving model to model/keypoint_classifier/keypoint_classifier.hdf5\n",
            "59/59 [==============================] - 0s 2ms/step - loss: 0.4540 - accuracy: 0.8353 - val_loss: 0.1783 - val_accuracy: 0.9599\n",
            "Epoch 184/1000\n",
            "43/59 [====================>.........] - ETA: 0s - loss: 0.4579 - accuracy: 0.8307\n",
            "Epoch 184: saving model to model/keypoint_classifier/keypoint_classifier.hdf5\n",
            "59/59 [==============================] - 0s 2ms/step - loss: 0.4461 - accuracy: 0.8368 - val_loss: 0.1753 - val_accuracy: 0.9591\n",
            "Epoch 185/1000\n",
            "32/59 [===============>..............] - ETA: 0s - loss: 0.4413 - accuracy: 0.8379\n",
            "Epoch 185: saving model to model/keypoint_classifier/keypoint_classifier.hdf5\n",
            "59/59 [==============================] - 0s 3ms/step - loss: 0.4469 - accuracy: 0.8355 - val_loss: 0.1770 - val_accuracy: 0.9599\n",
            "Epoch 186/1000\n",
            "42/59 [====================>.........] - ETA: 0s - loss: 0.4560 - accuracy: 0.8318\n",
            "Epoch 186: saving model to model/keypoint_classifier/keypoint_classifier.hdf5\n",
            "59/59 [==============================] - 0s 2ms/step - loss: 0.4538 - accuracy: 0.8336 - val_loss: 0.1825 - val_accuracy: 0.9615\n",
            "Epoch 187/1000\n",
            "43/59 [====================>.........] - ETA: 0s - loss: 0.4463 - accuracy: 0.8332\n",
            "Epoch 187: saving model to model/keypoint_classifier/keypoint_classifier.hdf5\n",
            "59/59 [==============================] - 0s 2ms/step - loss: 0.4501 - accuracy: 0.8321 - val_loss: 0.1816 - val_accuracy: 0.9599\n",
            "Epoch 188/1000\n",
            "40/59 [===================>..........] - ETA: 0s - loss: 0.4288 - accuracy: 0.8348\n",
            "Epoch 188: saving model to model/keypoint_classifier/keypoint_classifier.hdf5\n",
            "59/59 [==============================] - 0s 3ms/step - loss: 0.4315 - accuracy: 0.8388 - val_loss: 0.1829 - val_accuracy: 0.9583\n",
            "Epoch 189/1000\n",
            "38/59 [==================>...........] - ETA: 0s - loss: 0.4446 - accuracy: 0.8345\n",
            "Epoch 189: saving model to model/keypoint_classifier/keypoint_classifier.hdf5\n",
            "59/59 [==============================] - 0s 3ms/step - loss: 0.4456 - accuracy: 0.8365 - val_loss: 0.1744 - val_accuracy: 0.9603\n",
            "Epoch 190/1000\n",
            "52/59 [=========================>....] - ETA: 0s - loss: 0.4421 - accuracy: 0.8465\n",
            "Epoch 190: saving model to model/keypoint_classifier/keypoint_classifier.hdf5\n",
            "59/59 [==============================] - 0s 4ms/step - loss: 0.4401 - accuracy: 0.8480 - val_loss: 0.1768 - val_accuracy: 0.9599\n",
            "Epoch 191/1000\n",
            "39/59 [==================>...........] - ETA: 0s - loss: 0.4376 - accuracy: 0.8446\n",
            "Epoch 191: saving model to model/keypoint_classifier/keypoint_classifier.hdf5\n",
            "59/59 [==============================] - 0s 2ms/step - loss: 0.4502 - accuracy: 0.8401 - val_loss: 0.1818 - val_accuracy: 0.9571\n",
            "Epoch 192/1000\n",
            "41/59 [===================>..........] - ETA: 0s - loss: 0.4519 - accuracy: 0.8373\n",
            "Epoch 192: saving model to model/keypoint_classifier/keypoint_classifier.hdf5\n",
            "59/59 [==============================] - 0s 2ms/step - loss: 0.4503 - accuracy: 0.8393 - val_loss: 0.1855 - val_accuracy: 0.9567\n",
            "Epoch 193/1000\n",
            "42/59 [====================>.........] - ETA: 0s - loss: 0.4502 - accuracy: 0.8352\n",
            "Epoch 193: saving model to model/keypoint_classifier/keypoint_classifier.hdf5\n",
            "59/59 [==============================] - 0s 2ms/step - loss: 0.4431 - accuracy: 0.8369 - val_loss: 0.1826 - val_accuracy: 0.9591\n",
            "Epoch 194/1000\n",
            "43/59 [====================>.........] - ETA: 0s - loss: 0.4527 - accuracy: 0.8287\n",
            "Epoch 194: saving model to model/keypoint_classifier/keypoint_classifier.hdf5\n",
            "59/59 [==============================] - 0s 2ms/step - loss: 0.4558 - accuracy: 0.8289 - val_loss: 0.1783 - val_accuracy: 0.9599\n",
            "Epoch 195/1000\n",
            "43/59 [====================>.........] - ETA: 0s - loss: 0.4467 - accuracy: 0.8343\n",
            "Epoch 195: saving model to model/keypoint_classifier/keypoint_classifier.hdf5\n",
            "59/59 [==============================] - 0s 2ms/step - loss: 0.4553 - accuracy: 0.8323 - val_loss: 0.1778 - val_accuracy: 0.9595\n",
            "Epoch 196/1000\n",
            "38/59 [==================>...........] - ETA: 0s - loss: 0.4334 - accuracy: 0.8386\n",
            "Epoch 196: saving model to model/keypoint_classifier/keypoint_classifier.hdf5\n",
            "59/59 [==============================] - 0s 2ms/step - loss: 0.4398 - accuracy: 0.8385 - val_loss: 0.1828 - val_accuracy: 0.9583\n",
            "Epoch 197/1000\n",
            "40/59 [===================>..........] - ETA: 0s - loss: 0.4309 - accuracy: 0.8395\n",
            "Epoch 197: saving model to model/keypoint_classifier/keypoint_classifier.hdf5\n",
            "59/59 [==============================] - 0s 2ms/step - loss: 0.4363 - accuracy: 0.8373 - val_loss: 0.1785 - val_accuracy: 0.9587\n",
            "Epoch 198/1000\n",
            "43/59 [====================>.........] - ETA: 0s - loss: 0.4388 - accuracy: 0.8441\n",
            "Epoch 198: saving model to model/keypoint_classifier/keypoint_classifier.hdf5\n",
            "59/59 [==============================] - 0s 2ms/step - loss: 0.4427 - accuracy: 0.8435 - val_loss: 0.1755 - val_accuracy: 0.9583\n",
            "Epoch 199/1000\n",
            "39/59 [==================>...........] - ETA: 0s - loss: 0.4452 - accuracy: 0.8315\n",
            "Epoch 199: saving model to model/keypoint_classifier/keypoint_classifier.hdf5\n",
            "59/59 [==============================] - 0s 3ms/step - loss: 0.4396 - accuracy: 0.8369 - val_loss: 0.1753 - val_accuracy: 0.9591\n",
            "Epoch 200/1000\n",
            "41/59 [===================>..........] - ETA: 0s - loss: 0.4564 - accuracy: 0.8342\n",
            "Epoch 200: saving model to model/keypoint_classifier/keypoint_classifier.hdf5\n",
            "59/59 [==============================] - 0s 2ms/step - loss: 0.4426 - accuracy: 0.8383 - val_loss: 0.1767 - val_accuracy: 0.9567\n",
            "Epoch 201/1000\n",
            "44/59 [=====================>........] - ETA: 0s - loss: 0.4172 - accuracy: 0.8462\n",
            "Epoch 201: saving model to model/keypoint_classifier/keypoint_classifier.hdf5\n",
            "59/59 [==============================] - 0s 2ms/step - loss: 0.4212 - accuracy: 0.8440 - val_loss: 0.1760 - val_accuracy: 0.9567\n",
            "Epoch 202/1000\n",
            "42/59 [====================>.........] - ETA: 0s - loss: 0.4668 - accuracy: 0.8309\n",
            "Epoch 202: saving model to model/keypoint_classifier/keypoint_classifier.hdf5\n",
            "59/59 [==============================] - 0s 2ms/step - loss: 0.4635 - accuracy: 0.8327 - val_loss: 0.1782 - val_accuracy: 0.9607\n",
            "Epoch 203/1000\n",
            "43/59 [====================>.........] - ETA: 0s - loss: 0.4442 - accuracy: 0.8343\n",
            "Epoch 203: saving model to model/keypoint_classifier/keypoint_classifier.hdf5\n",
            "59/59 [==============================] - 0s 2ms/step - loss: 0.4427 - accuracy: 0.8364 - val_loss: 0.1773 - val_accuracy: 0.9595\n",
            "Epoch 204/1000\n",
            "37/59 [=================>............] - ETA: 0s - loss: 0.4693 - accuracy: 0.8296\n",
            "Epoch 204: saving model to model/keypoint_classifier/keypoint_classifier.hdf5\n",
            "59/59 [==============================] - 0s 3ms/step - loss: 0.4495 - accuracy: 0.8359 - val_loss: 0.1757 - val_accuracy: 0.9579\n",
            "Epoch 205/1000\n",
            "32/59 [===============>..............] - ETA: 0s - loss: 0.4559 - accuracy: 0.8293\n",
            "Epoch 205: saving model to model/keypoint_classifier/keypoint_classifier.hdf5\n",
            "59/59 [==============================] - 0s 2ms/step - loss: 0.4471 - accuracy: 0.8349 - val_loss: 0.1806 - val_accuracy: 0.9571\n",
            "Epoch 206/1000\n",
            "43/59 [====================>.........] - ETA: 0s - loss: 0.4443 - accuracy: 0.8312\n",
            "Epoch 206: saving model to model/keypoint_classifier/keypoint_classifier.hdf5\n",
            "59/59 [==============================] - 0s 2ms/step - loss: 0.4555 - accuracy: 0.8288 - val_loss: 0.1838 - val_accuracy: 0.9563\n",
            "Epoch 207/1000\n",
            "42/59 [====================>.........] - ETA: 0s - loss: 0.4303 - accuracy: 0.8423\n",
            "Epoch 207: saving model to model/keypoint_classifier/keypoint_classifier.hdf5\n",
            "59/59 [==============================] - 0s 2ms/step - loss: 0.4406 - accuracy: 0.8411 - val_loss: 0.1777 - val_accuracy: 0.9595\n",
            "Epoch 208/1000\n",
            "29/59 [=============>................] - ETA: 0s - loss: 0.4631 - accuracy: 0.8389\n",
            "Epoch 208: saving model to model/keypoint_classifier/keypoint_classifier.hdf5\n",
            "59/59 [==============================] - 0s 3ms/step - loss: 0.4418 - accuracy: 0.8414 - val_loss: 0.1814 - val_accuracy: 0.9591\n",
            "Epoch 209/1000\n",
            "43/59 [====================>.........] - ETA: 0s - loss: 0.4537 - accuracy: 0.8338\n",
            "Epoch 209: saving model to model/keypoint_classifier/keypoint_classifier.hdf5\n",
            "59/59 [==============================] - 0s 2ms/step - loss: 0.4504 - accuracy: 0.8347 - val_loss: 0.1838 - val_accuracy: 0.9591\n",
            "Epoch 209: early stopping\n"
          ]
        },
        {
          "data": {
            "text/plain": [
              "<keras.src.callbacks.History at 0x16852e610>"
            ]
          },
          "execution_count": 67,
          "metadata": {},
          "output_type": "execute_result"
        }
      ],
      "source": [
        "model.fit(\n",
        "    X_train,\n",
        "    y_train,\n",
        "    epochs=1000,\n",
        "    batch_size=128,\n",
        "    validation_data=(X_test, y_test),\n",
        "    callbacks=[cp_callback, es_callback]\n",
        ")"
      ]
    },
    {
      "cell_type": "code",
      "execution_count": 68,
      "metadata": {
        "colab": {
          "base_uri": "https://localhost:8080/"
        },
        "id": "pxvb2Y299hE3",
        "outputId": "59eb3185-2e37-4b9e-bc9d-ab1b8ac29b7f"
      },
      "outputs": [
        {
          "name": "stdout",
          "output_type": "stream",
          "text": [
            "20/20 [==============================] - 0s 1ms/step - loss: 0.1838 - accuracy: 0.9591\n"
          ]
        }
      ],
      "source": [
        "# Model evaluation\n",
        "val_loss, val_acc = model.evaluate(X_test, y_test, batch_size=128)"
      ]
    },
    {
      "cell_type": "code",
      "execution_count": 69,
      "metadata": {
        "id": "RBkmDeUW9hE4"
      },
      "outputs": [],
      "source": [
        "# Loading the saved model\n",
        "model = tf.keras.models.load_model(model_save_path)"
      ]
    },
    {
      "cell_type": "code",
      "execution_count": 70,
      "metadata": {
        "colab": {
          "base_uri": "https://localhost:8080/"
        },
        "id": "tFz9Tb0I9hE4",
        "outputId": "1c3b3528-54ae-4ee2-ab04-77429211cbef"
      },
      "outputs": [
        {
          "name": "stdout",
          "output_type": "stream",
          "text": [
            "1/1 [==============================] - 0s 56ms/step\n",
            "[5.7367324e-03 1.4460071e-05 9.8577869e-01 7.1971029e-09 7.3028370e-03\n",
            " 8.3523151e-04 3.3207011e-04]\n",
            "2\n"
          ]
        }
      ],
      "source": [
        "# Inference test\n",
        "predict_result = model.predict(np.array([X_test[0]]))\n",
        "print(np.squeeze(predict_result))\n",
        "print(np.argmax(np.squeeze(predict_result)))"
      ]
    },
    {
      "cell_type": "markdown",
      "metadata": {
        "id": "S3U4yNWx9hE4"
      },
      "source": [
        "# Confusion matrix"
      ]
    },
    {
      "cell_type": "code",
      "execution_count": 71,
      "metadata": {
        "colab": {
          "base_uri": "https://localhost:8080/",
          "height": 582
        },
        "id": "AP1V6SCk9hE5",
        "outputId": "08e41a80-7a4a-4619-8125-ecc371368d19"
      },
      "outputs": [
        {
          "name": "stdout",
          "output_type": "stream",
          "text": [
            "78/78 [==============================] - 0s 839us/step\n"
          ]
        },
        {
          "data": {
            "image/png": "[encoded data removed]",
            "text/plain": [
              "<Figure size 700x600 with 2 Axes>"
            ]
          },
          "metadata": {},
          "output_type": "display_data"
        },
        {
          "name": "stdout",
          "output_type": "stream",
          "text": [
            "Classification Report\n",
            "              precision    recall  f1-score   support\n",
            "\n",
            "           0       0.97      0.95      0.96      1037\n",
            "           1       0.91      0.92      0.92       429\n",
            "           2       0.95      0.98      0.97       325\n",
            "           3       1.00      1.00      1.00       348\n",
            "           4       0.95      0.99      0.97       238\n",
            "           5       0.96      0.92      0.94       102\n",
            "           6       1.00      1.00      1.00        15\n",
            "\n",
            "    accuracy                           0.96      2494\n",
            "   macro avg       0.96      0.97      0.96      2494\n",
            "weighted avg       0.96      0.96      0.96      2494\n",
            "\n"
          ]
        }
      ],
      "source": [
        "import pandas as pd\n",
        "import seaborn as sns\n",
        "import matplotlib.pyplot as plt\n",
        "from sklearn.metrics import confusion_matrix, classification_report\n",
        "\n",
        "def print_confusion_matrix(y_true, y_pred, report=True):\n",
        "    labels = sorted(list(set(y_true)))\n",
        "    cmx_data = confusion_matrix(y_true, y_pred, labels=labels)\n",
        "    \n",
        "    df_cmx = pd.DataFrame(cmx_data, index=labels, columns=labels)\n",
        " \n",
        "    fig, ax = plt.subplots(figsize=(7, 6))\n",
        "    sns.heatmap(df_cmx, annot=True, fmt='g' ,square=False)\n",
        "    ax.set_ylim(len(set(y_true)), 0)\n",
        "    plt.show()\n",
        "    \n",
        "    if report:\n",
        "        print('Classification Report')\n",
        "        print(classification_report(y_test, y_pred))\n",
        "\n",
        "Y_pred = model.predict(X_test)\n",
        "y_pred = np.argmax(Y_pred, axis=1)\n",
        "\n",
        "print_confusion_matrix(y_test, y_pred)"
      ]
    },
    {
      "cell_type": "markdown",
      "metadata": {
        "id": "FNP6aqzc9hE5"
      },
      "source": [
        "# Convert to model for Tensorflow-Lite"
      ]
    },
    {
      "cell_type": "code",
      "execution_count": 72,
      "metadata": {
        "id": "ODjnYyld9hE6"
      },
      "outputs": [
        {
          "name": "stderr",
          "output_type": "stream",
          "text": [
            "/Users/yoon/anaconda3/lib/python3.11/site-packages/keras/src/engine/training.py:3079: UserWarning: You are saving your model as an HDF5 file via `model.save()`. This file format is considered legacy. We recommend using instead the native Keras format, e.g. `model.save('my_model.keras')`.\n",
            "  saving_api.save_model(\n"
          ]
        }
      ],
      "source": [
        "# Save as a model dedicated to inference\n",
        "model.save(model_save_path, include_optimizer=False)"
      ]
    },
    {
      "cell_type": "code",
      "execution_count": 73,
      "metadata": {
        "colab": {
          "base_uri": "https://localhost:8080/"
        },
        "id": "zRfuK8Y59hE6",
        "outputId": "a4ca585c-b5d5-4244-8291-8674063209bb"
      },
      "outputs": [
        {
          "name": "stdout",
          "output_type": "stream",
          "text": [
            "INFO:tensorflow:Assets written to: /var/folders/m1/nzwkx_t91v1c1lzszjqmggc80000gn/T/tmpfhgh16cs/assets\n"
          ]
        },
        {
          "name": "stderr",
          "output_type": "stream",
          "text": [
            "INFO:tensorflow:Assets written to: /var/folders/m1/nzwkx_t91v1c1lzszjqmggc80000gn/T/tmpfhgh16cs/assets\n",
            "2025-02-02 19:10:42.575048: W tensorflow/compiler/mlir/lite/python/tf_tfl_flatbuffer_helpers.cc:378] Ignored output_format.\n",
            "2025-02-02 19:10:42.575065: W tensorflow/compiler/mlir/lite/python/tf_tfl_flatbuffer_helpers.cc:381] Ignored drop_control_dependency.\n",
            "2025-02-02 19:10:42.575291: I tensorflow/cc/saved_model/reader.cc:83] Reading SavedModel from: /var/folders/m1/nzwkx_t91v1c1lzszjqmggc80000gn/T/tmpfhgh16cs\n",
            "2025-02-02 19:10:42.576683: I tensorflow/cc/saved_model/reader.cc:51] Reading meta graph with tags { serve }\n",
            "2025-02-02 19:10:42.576694: I tensorflow/cc/saved_model/reader.cc:146] Reading SavedModel debug info (if present) from: /var/folders/m1/nzwkx_t91v1c1lzszjqmggc80000gn/T/tmpfhgh16cs\n",
            "2025-02-02 19:10:42.580328: I tensorflow/cc/saved_model/loader.cc:233] Restoring SavedModel bundle.\n",
            "2025-02-02 19:10:42.626329: I tensorflow/cc/saved_model/loader.cc:217] Running initialization op on SavedModel bundle at path: /var/folders/m1/nzwkx_t91v1c1lzszjqmggc80000gn/T/tmpfhgh16cs\n",
            "2025-02-02 19:10:42.641129: I tensorflow/cc/saved_model/loader.cc:316] SavedModel load for tags { serve }; Status: success: OK. Took 65839 microseconds.\n"
          ]
        },
        {
          "data": {
            "text/plain": [
              "6728"
            ]
          },
          "execution_count": 73,
          "metadata": {},
          "output_type": "execute_result"
        }
      ],
      "source": [
        "# Transform model (quantization)\n",
        "\n",
        "converter = tf.lite.TFLiteConverter.from_keras_model(model)\n",
        "converter.optimizations = [tf.lite.Optimize.DEFAULT]\n",
        "tflite_quantized_model = converter.convert()\n",
        "\n",
        "open(tflite_save_path, 'wb').write(tflite_quantized_model)"
      ]
    },
    {
      "cell_type": "markdown",
      "metadata": {
        "id": "CHBPBXdx9hE6"
      },
      "source": [
        "# Inference test"
      ]
    },
    {
      "cell_type": "code",
      "execution_count": 74,
      "metadata": {
        "id": "mGAzLocO9hE7"
      },
      "outputs": [],
      "source": [
        "interpreter = tf.lite.Interpreter(model_path=tflite_save_path)\n",
        "interpreter.allocate_tensors()"
      ]
    },
    {
      "cell_type": "code",
      "execution_count": 75,
      "metadata": {
        "id": "oQuDK8YS9hE7"
      },
      "outputs": [],
      "source": [
        "# Get I / O tensor\n",
        "input_details = interpreter.get_input_details()\n",
        "output_details = interpreter.get_output_details()"
      ]
    },
    {
      "cell_type": "code",
      "execution_count": 76,
      "metadata": {
        "id": "2_ixAf_l9hE7"
      },
      "outputs": [],
      "source": [
        "interpreter.set_tensor(input_details[0]['index'], np.array([X_test[0]]))"
      ]
    },
    {
      "cell_type": "code",
      "execution_count": 77,
      "metadata": {
        "colab": {
          "base_uri": "https://localhost:8080/"
        },
        "id": "s4FoAnuc9hE7",
        "outputId": "91f18257-8d8b-4ef3-c558-e9b5f94fabbf",
        "scrolled": true
      },
      "outputs": [
        {
          "name": "stdout",
          "output_type": "stream",
          "text": [
            "CPU times: user 191 µs, sys: 110 µs, total: 301 µs\n",
            "Wall time: 260 µs\n"
          ]
        }
      ],
      "source": [
        "%%time\n",
        "# Inference implementation\n",
        "interpreter.invoke()\n",
        "tflite_results = interpreter.get_tensor(output_details[0]['index'])"
      ]
    },
    {
      "cell_type": "markdown",
      "metadata": {},
      "source": []
    },
    {
      "cell_type": "code",
      "execution_count": 78,
      "metadata": {
        "colab": {
          "base_uri": "https://localhost:8080/"
        },
        "id": "vONjp19J9hE8",
        "outputId": "77205e24-fd00-42c4-f7b6-e06e527c2cba"
      },
      "outputs": [
        {
          "name": "stdout",
          "output_type": "stream",
          "text": [
            "[5.7367296e-03 1.4460083e-05 9.8577857e-01 7.1971020e-09 7.3028253e-03\n",
            " 8.3523133e-04 3.3206993e-04]\n",
            "2\n"
          ]
        }
      ],
      "source": [
        "print(np.squeeze(tflite_results))\n",
        "print(np.argmax(np.squeeze(tflite_results)))"
      ]
    }
  ],
  "metadata": {
    "accelerator": "GPU",
    "colab": {
      "collapsed_sections": [],
      "name": "keypoint_classification_EN.ipynb",
      "provenance": [],
      "toc_visible": true
    },
    "kernelspec": {
      "display_name": "jpkernel",
      "language": "python",
      "name": "jpkernel"
    },
    "language_info": {
      "codemirror_mode": {
        "name": "ipython",
        "version": 3
      },
      "file_extension": ".py",
      "mimetype": "text/x-python",
      "name": "python",
      "nbconvert_exporter": "python",
      "pygments_lexer": "ipython3",
      "version": "3.11.5"
    },
    "vscode": {
      "interpreter": {
        "hash": "496c387321678e46806c0aa18d41fb751695eedbabeebf9b8248fa467a49336f"
      }
    }
  },
  "nbformat": 4,
  "nbformat_minor": 0
}
